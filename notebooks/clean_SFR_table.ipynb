{
 "cells": [
  {
   "cell_type": "code",
   "execution_count": 1,
   "metadata": {},
   "outputs": [],
   "source": [
    "import numpy as np"
   ]
  },
  {
   "cell_type": "code",
   "execution_count": 60,
   "metadata": {},
   "outputs": [],
   "source": [
    "tab = np.loadtxt('../SFR_tables/sfr_table_UniverseMachine.dat')"
   ]
  },
  {
   "cell_type": "code",
   "execution_count": 61,
   "metadata": {},
   "outputs": [
    {
     "data": {
      "text/plain": [
       "(15372, 4)"
      ]
     },
     "execution_count": 61,
     "metadata": {},
     "output_type": "execute_result"
    }
   ],
   "source": [
    "tab.shape"
   ]
  },
  {
   "cell_type": "code",
   "execution_count": 92,
   "metadata": {},
   "outputs": [],
   "source": [
    "zp1 = tab[:,0]+1\n",
    "logM = tab[:,1]\n",
    "logSFR = tab[:,2]\n",
    "scat = tab[:,3]"
   ]
  },
  {
   "cell_type": "code",
   "execution_count": 93,
   "metadata": {},
   "outputs": [],
   "source": [
    "zz = np.unique(zp1)\n",
    "MM = np.unique(logM)"
   ]
  },
  {
   "cell_type": "code",
   "execution_count": 94,
   "metadata": {},
   "outputs": [
    {
     "data": {
      "text/plain": [
       "15372"
      ]
     },
     "execution_count": 94,
     "metadata": {},
     "output_type": "execute_result"
    }
   ],
   "source": [
    "len(zz)*len(MM)"
   ]
  },
  {
   "cell_type": "code",
   "execution_count": 95,
   "metadata": {},
   "outputs": [],
   "source": [
    "logSFR[np.isnan(logSFR)] = -40.\n",
    "logSFR[scat==0] = -40."
   ]
  },
  {
   "cell_type": "code",
   "execution_count": 96,
   "metadata": {},
   "outputs": [],
   "source": [
    "zg,Mg = np.meshgrid(zz,MM)"
   ]
  },
  {
   "cell_type": "code",
   "execution_count": 97,
   "metadata": {},
   "outputs": [],
   "source": [
    "zd = zg.flatten()"
   ]
  },
  {
   "cell_type": "code",
   "execution_count": 98,
   "metadata": {},
   "outputs": [],
   "source": [
    "Md = Mg.flatten()"
   ]
  },
  {
   "cell_type": "code",
   "execution_count": 99,
   "metadata": {},
   "outputs": [],
   "source": [
    "SFRd = np.zeros(len(zd))\n",
    "scatd = np.zeros(len(zd))"
   ]
  },
  {
   "cell_type": "code",
   "execution_count": 100,
   "metadata": {},
   "outputs": [],
   "source": [
    "for i in range(len(zd)):\n",
    "    SFRd[i] = logSFR[np.where(np.logical_and(zp1==zd[i],logM==Md[i]))]\n",
    "    scatd[i] = scat[np.where(np.logical_and(zp1==zd[i],logM==Md[i]))]"
   ]
  },
  {
   "cell_type": "code",
   "execution_count": 101,
   "metadata": {},
   "outputs": [],
   "source": [
    "TAB = np.zeros((len(zd),4))\n",
    "TAB[:,0] = zd\n",
    "TAB[:,1] = Md\n",
    "TAB[:,2] = SFRd\n",
    "TAB[:,3] = scatd\n",
    "np.savetxt('../SFR_tables/sfr_table_UniverseMachine_clean.dat',TAB)"
   ]
  },
  {
   "cell_type": "markdown",
   "metadata": {},
   "source": [
    "# test"
   ]
  },
  {
   "cell_type": "code",
   "execution_count": 102,
   "metadata": {},
   "outputs": [],
   "source": [
    "from scipy.interpolate import interp2d,interp1d\n",
    "import matplotlib.pyplot as plt"
   ]
  },
  {
   "cell_type": "code",
   "execution_count": 103,
   "metadata": {},
   "outputs": [],
   "source": [
    "def SFR_Mz_2dinterp(M,z,filename):\n",
    "    '''\n",
    "    Returns SFR(M,z) interpolated from tables following the same order as\n",
    "    the function Behroozi_SFR. The table includes 1+z, log10(Mhalo/Msun) and \n",
    "    SFR (Msun/yr)\n",
    "    '''\n",
    "    x = np.loadtxt(filename)\n",
    "    zb = np.unique(x[:,0])-1.\n",
    "    logMb = np.unique(x[:,1])\n",
    "    logSFRb = x[:,2].reshape(len(zb),len(logMb),order='F')\n",
    "    \n",
    "    logSFR_interp = interp2d(logMb,zb,logSFRb,bounds_error=False,fill_value=-40.)\n",
    "    \n",
    "    logM = np.log10(M)\n",
    "    if np.array(z).size>1:\n",
    "        SFR = np.zeros(logM.size)\n",
    "        for ii in range(0,logM.size):\n",
    "            SFR[ii] = 10.**logSFR_interp(logM[ii],z[ii])\n",
    "    else:\n",
    "        SFR = 10.**logSFR_interp(logM,z)\n",
    "    \n",
    "    return SFR\n",
    " "
   ]
  },
  {
   "cell_type": "code",
   "execution_count": 107,
   "metadata": {},
   "outputs": [],
   "source": [
    "MM = np.logspace(8,15,1000)\n",
    "ZZ = 2.8"
   ]
  },
  {
   "cell_type": "code",
   "execution_count": 108,
   "metadata": {},
   "outputs": [],
   "source": [
    "BWC = SFR_Mz_2dinterp(MM,ZZ,'../SFR_tables/sfr_table_Behroozi.dat')\n",
    "UM = SFR_Mz_2dinterp(MM,ZZ,'../SFR_tables/sfr_table_UniverseMachine_clean.dat')"
   ]
  },
  {
   "cell_type": "code",
   "execution_count": 111,
   "metadata": {},
   "outputs": [
    {
     "data": {
      "text/plain": [
       "Text(0.5, 1.0, 'z=2.8')"
      ]
     },
     "execution_count": 111,
     "metadata": {},
     "output_type": "execute_result"
    },
    {
     "data": {
      "image/png": "[encoded data removed]",
      "text/plain": [
       "<Figure size 432x288 with 1 Axes>"
      ]
     },
     "metadata": {
      "needs_background": "light"
     },
     "output_type": "display_data"
    }
   ],
   "source": [
    "plt.loglog(MM,BWC,label='BWC')\n",
    "plt.loglog(MM,UM,label='UM')\n",
    "plt.legend()\n",
    "plt.ylim(1e-4,2e2)\n",
    "plt.xlabel('M')\n",
    "plt.ylabel('SFR')\n",
    "plt.title('z=2.8')"
   ]
  },
  {
   "cell_type": "code",
   "execution_count": null,
   "metadata": {},
   "outputs": [],
   "source": []
  }
 ],
 "metadata": {
  "kernelspec": {
   "display_name": "Python [conda env:py3] *",
   "language": "python",
   "name": "conda-env-py3-py"
  },
  "language_info": {
   "codemirror_mode": {
    "name": "ipython",
    "version": 3
   },
   "file_extension": ".py",
   "mimetype": "text/x-python",
   "name": "python",
   "nbconvert_exporter": "python",
   "pygments_lexer": "ipython3",
   "version": "3.7.7"
  }
 },
 "nbformat": 4,
 "nbformat_minor": 4
}
