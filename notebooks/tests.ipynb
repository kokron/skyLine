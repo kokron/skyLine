{
 "cells": [
  {
   "cell_type": "code",
   "execution_count": 1,
   "metadata": {},
   "outputs": [],
   "source": [
    "from LIM_lightcone import paint_lightcone,make_survey\n",
    "import matplotlib.pyplot as plt\n",
    "import numpy as np\n",
    "import astropy.units as u\n",
    "import astropy.constants as cu\n",
    "\n",
    "\n",
    "%matplotlib inline"
   ]
  },
  {
   "cell_type": "code",
   "execution_count": 8,
   "metadata": {},
   "outputs": [
    {
     "name": "stdout",
     "output_type": "stream",
     "text": [
      "/home/jlbernal/LightCone_S82_UM/lightcone_MDPL2UM_173.fits\n",
      "/home/jlbernal/LightCone_S82_UM/lightcone_MDPL2UM_179.fits\n",
      "/home/jlbernal/LightCone_S82_UM/lightcone_MDPL2UM_170.fits\n",
      "/home/jlbernal/LightCone_S82_UM/lightcone_MDPL2UM_172.fits\n",
      "/home/jlbernal/LightCone_S82_UM/lightcone_MDPL2UM_168.fits\n",
      "/home/jlbernal/LightCone_S82_UM/lightcone_MDPL2UM_178.fits\n",
      "/home/jlbernal/LightCone_S82_UM/lightcone_MDPL2UM_160.fits\n",
      "/home/jlbernal/LightCone_S82_UM/lightcone_MDPL2UM_161.fits\n",
      "/home/jlbernal/LightCone_S82_UM/lightcone_MDPL2UM_171.fits\n"
     ]
    },
    {
     "name": "stderr",
     "output_type": "stream",
     "text": [
      "/home/jlbernal/preLIMinary/source/line_models.py:28: RuntimeWarning: divide by zero encountered in log10\n",
      "  log10_LCO = (np.log10(LIR) - beta)/alpha\n"
     ]
    }
   ],
   "source": [
    "test = make_survey(dict(halo_lightcone_dir='/home/jlbernal/LightCone_S82_UM',\n",
    "                            lines=dict(CO=True),\n",
    "                            models=dict(CO=dict(model_name='CO_Li16',model_pars={'alpha':1.37,'beta':-1.74,'delta_mf':1,'sigma_LCO':0.3})),\n",
    "                           do_external_SFR = False, external_SFR = '',zmin = 2.6,zmax = 3.,\n",
    "                 output_root = \"output/default\"))\n"
   ]
  },
  {
   "cell_type": "code",
   "execution_count": 17,
   "metadata": {},
   "outputs": [],
   "source": [
    "observed_catalog = dict(RA= np.array([]),DEC=np.array([]),Zobs=np.array([]),signal=np.array([]))\n",
    "\n",
    "for line in self.lines.keys():\n",
    "    if self.lines[line]:\n",
    "        inds = np.where(np.logical_and(self.nuObs_line_halo[line] >= self.nuObs_min,\n",
    "                                       self.nuObs_line_halo[line] <= self.nuObs_max))[0]\n",
    "        observed_catalog['RA'] = np.append(observed_catalog['RA'],self.halo_catalog['RA'][inds])\n",
    "        observed_catalog['DEC'] = np.append(observed_catalog['DEC'],self.halo_catalog['DEC'][inds])\n",
    "        observed_catalog['Zobs'] = np.append(observed_catalog['Zobs'],self.line_nu0[self.target_line]/self.nuObs_line_halo[line][inds]-1)\n",
    "        "
   ]
  },
  {
   "cell_type": "code",
   "execution_count": 15,
   "metadata": {},
   "outputs": [
    {
     "data": {
      "text/latex": [
       "$[2.6655135,~2.6639771,~2.6660025,~\\dots,~2.9495609,~2.9483283,~2.9558315] \\; \\mathrm{}$"
      ],
      "text/plain": [
       "<Quantity [2.6655135, 2.6639771, 2.6660025, ..., 2.9495609, 2.9483283,\n",
       "           2.9558315]>"
      ]
     },
     "execution_count": 15,
     "metadata": {},
     "output_type": "execute_result"
    }
   ],
   "source": [
    "test.line_nu0[test.target_line]/test.nuObs_line_halo['CO']-1"
   ]
  },
  {
   "cell_type": "code",
   "execution_count": null,
   "metadata": {},
   "outputs": [],
   "source": []
  },
  {
   "cell_type": "code",
   "execution_count": 12,
   "metadata": {},
   "outputs": [],
   "source": [
    "nuObs_line_halo = {}\n",
    "for line in test.lines.keys():\n",
    "    if test.lines[line]:\n",
    "        nuObs_line_halo[line] = test.line_nu0[line]/(1+test.halo_catalog['Z'])"
   ]
  },
  {
   "cell_type": "code",
   "execution_count": 11,
   "metadata": {},
   "outputs": [
    {
     "data": {
      "text/latex": [
       "$[35.601521,~35.602066,~35.600456,~\\dots,~35.004852,~35.024601,~34.982681] \\; \\mathrm{GHz}$"
      ],
      "text/plain": [
       "<Quantity [35.60152 , 35.602066, 35.600456, ..., 35.004852, 35.0246  ,\n",
       "           34.98268 ] GHz>"
      ]
     },
     "execution_count": 11,
     "metadata": {},
     "output_type": "execute_result"
    }
   ],
   "source": [
    "test.line_nu0['CO']/(1+test.halo_catalog['Z'])"
   ]
  },
  {
   "cell_type": "code",
   "execution_count": 9,
   "metadata": {
    "scrolled": true
   },
   "outputs": [],
   "source": [
    "test = paint_lightcone(dict(halo_lightcone_dir='/home/jlbernal/LightCone_S82_UM',\n",
    "                            lines=dict(CO=True),\n",
    "                            models=dict(CO=dict(model_name='CO_Li16',model_pars={'alpha':1.37,'beta':-1.74,'delta_mf':1,'sigma_LCO':0.3})),\n",
    "                           do_external_SFR = False, external_SFR = '',zmin = 2.2,zmax = 2.3,\n",
    "                 output_root = \"output/default\"))"
   ]
  },
  {
   "cell_type": "code",
   "execution_count": 10,
   "metadata": {},
   "outputs": [
    {
     "name": "stdout",
     "output_type": "stream",
     "text": [
      "/home/jlbernal/LightCone_S82_UM/lightcone_MDPL2UM_173.fits\n",
      "/home/jlbernal/LightCone_S82_UM/lightcone_MDPL2UM_179.fits\n"
     ]
    }
   ],
   "source": [
    "test.read_halo_catalog"
   ]
  },
  {
   "cell_type": "code",
   "execution_count": 17,
   "metadata": {},
   "outputs": [
    {
     "name": "stderr",
     "output_type": "stream",
     "text": [
      "/home/jlbernal/.local/lib/python3.6/site-packages/ipykernel_launcher.py:2: RuntimeWarning: divide by zero encountered in log10\n",
      "  \n"
     ]
    },
    {
     "data": {
      "image/png": "[encoded data removed]",
      "text/plain": [
       "<Figure size 432x288 with 1 Axes>"
      ]
     },
     "metadata": {
      "needs_background": "light"
     },
     "output_type": "display_data"
    }
   ],
   "source": [
    "hmcat = np.log10(test.halo_catalog['M_HALO'])\n",
    "smcat = np.log10(test.halo_catalog['SM_HALO'])\n",
    "\n",
    "bins_hm = np.linspace(10, 15.5, 50)\n",
    "bins_sm = np.linspace(1, 13, 100)\n",
    "plt.hist(hmcat, bins=bins_hm, histtype='step', density=True, lw=2)\n",
    "plt.hist(smcat, bins=bins_sm, histtype='step', density=True, lw=2)\n",
    "plt.yscale('log')\n",
    "plt.show()"
   ]
  },
  {
   "cell_type": "code",
   "execution_count": 12,
   "metadata": {},
   "outputs": [],
   "source": [
    "from glob import glob\n",
    "import numpy as np"
   ]
  },
  {
   "cell_type": "code",
   "execution_count": 13,
   "metadata": {},
   "outputs": [],
   "source": [
    "fnames = glob(test.halo_lightcone_dir+'/*')"
   ]
  },
  {
   "cell_type": "code",
   "execution_count": 16,
   "metadata": {},
   "outputs": [
    {
     "data": {
      "text/plain": [
       "0"
      ]
     },
     "execution_count": 16,
     "metadata": {},
     "output_type": "execute_result"
    }
   ],
   "source": [
    "int(fnames[0].split('_')[-1].split('.')[0])"
   ]
  },
  {
   "cell_type": "code",
   "execution_count": 33,
   "metadata": {},
   "outputs": [],
   "source": [
    "ind = np.zeros(len(fnames)).astype(int)\n",
    "for ifile in range(len(fnames)):\n",
    "    ind[ifile] =  int(fnames[ifile].split('_')[-1].split('.')[0])\n",
    "    \n",
    "sort_ind = np.argsort(ind)"
   ]
  },
  {
   "cell_type": "code",
   "execution_count": 46,
   "metadata": {},
   "outputs": [
    {
     "name": "stdout",
     "output_type": "stream",
     "text": [
      "/home/jlbernal/LightCone_S82_UM/lightcone_MDPL2UM_23.fits\n",
      "/home/jlbernal/LightCone_S82_UM/lightcone_MDPL2UM_24.fits\n",
      "/home/jlbernal/LightCone_S82_UM/lightcone_MDPL2UM_25.fits\n",
      "/home/jlbernal/LightCone_S82_UM/lightcone_MDPL2UM_26.fits\n",
      "/home/jlbernal/LightCone_S82_UM/lightcone_MDPL2UM_27.fits\n",
      "/home/jlbernal/LightCone_S82_UM/lightcone_MDPL2UM_28.fits\n",
      "/home/jlbernal/LightCone_S82_UM/lightcone_MDPL2UM_29.fits\n",
      "/home/jlbernal/LightCone_S82_UM/lightcone_MDPL2UM_30.fits\n",
      "/home/jlbernal/LightCone_S82_UM/lightcone_MDPL2UM_31.fits\n",
      "/home/jlbernal/LightCone_S82_UM/lightcone_MDPL2UM_32.fits\n",
      "/home/jlbernal/LightCone_S82_UM/lightcone_MDPL2UM_33.fits\n",
      "/home/jlbernal/LightCone_S82_UM/lightcone_MDPL2UM_34.fits\n",
      "/home/jlbernal/LightCone_S82_UM/lightcone_MDPL2UM_35.fits\n",
      "/home/jlbernal/LightCone_S82_UM/lightcone_MDPL2UM_36.fits\n",
      "/home/jlbernal/LightCone_S82_UM/lightcone_MDPL2UM_37.fits\n",
      "/home/jlbernal/LightCone_S82_UM/lightcone_MDPL2UM_38.fits\n",
      "/home/jlbernal/LightCone_S82_UM/lightcone_MDPL2UM_39.fits\n",
      "/home/jlbernal/LightCone_S82_UM/lightcone_MDPL2UM_40.fits\n",
      "/home/jlbernal/LightCone_S82_UM/lightcone_MDPL2UM_41.fits\n",
      "/home/jlbernal/LightCone_S82_UM/lightcone_MDPL2UM_42.fits\n",
      "/home/jlbernal/LightCone_S82_UM/lightcone_MDPL2UM_43.fits\n",
      "/home/jlbernal/LightCone_S82_UM/lightcone_MDPL2UM_44.fits\n",
      "/home/jlbernal/LightCone_S82_UM/lightcone_MDPL2UM_45.fits\n",
      "/home/jlbernal/LightCone_S82_UM/lightcone_MDPL2UM_46.fits\n",
      "/home/jlbernal/LightCone_S82_UM/lightcone_MDPL2UM_47.fits\n",
      "/home/jlbernal/LightCone_S82_UM/lightcone_MDPL2UM_48.fits\n",
      "/home/jlbernal/LightCone_S82_UM/lightcone_MDPL2UM_49.fits\n",
      "/home/jlbernal/LightCone_S82_UM/lightcone_MDPL2UM_50.fits\n",
      "/home/jlbernal/LightCone_S82_UM/lightcone_MDPL2UM_51.fits\n",
      "/home/jlbernal/LightCone_S82_UM/lightcone_MDPL2UM_52.fits\n",
      "/home/jlbernal/LightCone_S82_UM/lightcone_MDPL2UM_53.fits\n",
      "/home/jlbernal/LightCone_S82_UM/lightcone_MDPL2UM_54.fits\n",
      "/home/jlbernal/LightCone_S82_UM/lightcone_MDPL2UM_55.fits\n",
      "/home/jlbernal/LightCone_S82_UM/lightcone_MDPL2UM_56.fits\n",
      "/home/jlbernal/LightCone_S82_UM/lightcone_MDPL2UM_57.fits\n",
      "/home/jlbernal/LightCone_S82_UM/lightcone_MDPL2UM_58.fits\n",
      "/home/jlbernal/LightCone_S82_UM/lightcone_MDPL2UM_59.fits\n"
     ]
    }
   ],
   "source": [
    "for ifile in range(len(inds[0])):\n",
    "    print(fnames[sort_ind[inds[0][ifile]]])"
   ]
  },
  {
   "cell_type": "code",
   "execution_count": 34,
   "metadata": {},
   "outputs": [
    {
     "data": {
      "text/plain": [
       "array([  0, 257, 256, 255, 254, 253, 252, 250, 249, 248, 246, 245, 244,\n",
       "       243, 239, 240, 238, 237, 236, 233, 234, 232, 230, 229, 227, 226,\n",
       "       225, 224, 221, 222, 219, 217, 216, 214, 213, 211, 212, 208, 205,\n",
       "       207, 206, 201, 202, 200, 199, 197, 195, 196, 192, 190, 191, 189,\n",
       "       188, 186, 184, 183, 182, 180, 178, 179, 177, 174, 173, 172, 169,\n",
       "       168, 166, 167, 164, 163, 162, 157, 158, 159, 156, 155, 152, 151,\n",
       "       149, 150, 147, 148, 144, 143, 141, 139, 137, 138, 136, 133, 132,\n",
       "       130, 128, 129, 127, 126, 123, 122, 121, 119, 117, 116, 115, 114,\n",
       "       111, 109, 110, 108, 107, 104, 102, 103, 101,  99,  97,  96,  94,\n",
       "        92,  90,  86,  91,  87,  85,  81,  82,  80,  78,  75,  77,  74,\n",
       "        73,  69,  66,  70,  67,  64,  63,  58,  61,  57,  53,  54,  49,\n",
       "        42,  45,  50,  51,  40,  41,  48,  44,  35,  33,  34,  32,  25,\n",
       "        21,  27,  11,  19,   7,   8,  20,  16,  26,  24,  14,  17,   5,\n",
       "        12,   3,   9,   4,   1,  13,  10,  18,  15,   6,   2,  31,  29,\n",
       "        23,  36,  22,  37,  30,  28,  39,  38,  46,  43,  52,  47,  56,\n",
       "        55,  59,  60,  62,  68,  65,  72,  71,  79,  76,  83,  84,  89,\n",
       "        88,  95,  93, 100,  98, 106, 105, 112, 113, 120, 118, 124, 125,\n",
       "       131, 135, 134, 142, 140, 146, 145, 154, 153, 161, 160, 165, 170,\n",
       "       171, 176, 175, 181, 187, 185, 194, 193, 198, 204, 203, 209, 210,\n",
       "       215, 220, 218, 223, 228, 231, 235, 242, 241, 247, 251])"
      ]
     },
     "execution_count": 34,
     "metadata": {},
     "output_type": "execute_result"
    }
   ],
   "source": [
    "sort_ind"
   ]
  },
  {
   "cell_type": "code",
   "execution_count": 14,
   "metadata": {},
   "outputs": [],
   "source": [
    "Nfiles = len(fnames)"
   ]
  },
  {
   "cell_type": "code",
   "execution_count": 2,
   "metadata": {},
   "outputs": [],
   "source": [
    "camb_pars = camb.set_params(H0=68.0, omch2 = 0.1188368, ombh2 = 0.02312)\n"
   ]
  },
  {
   "cell_type": "code",
   "execution_count": 4,
   "metadata": {},
   "outputs": [],
   "source": [
    "cosmo = camb.get_background(camb_pars)"
   ]
  },
  {
   "cell_type": "code",
   "execution_count": 8,
   "metadata": {},
   "outputs": [
    {
     "data": {
      "text/plain": [
       "array([   0.        , 1036.17887083, 1938.46670949, 2715.55870666,\n",
       "       3383.9439655 ])"
      ]
     },
     "execution_count": 8,
     "metadata": {},
     "output_type": "execute_result"
    }
   ],
   "source": [
    "cosmo.comoving_radial_distance(np.linspace(0.,1.,5))"
   ]
  },
  {
   "cell_type": "code",
   "execution_count": 35,
   "metadata": {},
   "outputs": [],
   "source": [
    " dists = (np.arange(Nfiles+1))*25*a.Mpch.value"
   ]
  },
  {
   "cell_type": "code",
   "execution_count": 37,
   "metadata": {},
   "outputs": [],
   "source": [
    "mi = cosmo.comoving_radial_distance(0.2)\n",
    "ma = cosmo.comoving_radial_distance(0.6)\n",
    "inds = np.where(np.logical_and(dists[:-1] >= mi, dists[1:] <= ma))"
   ]
  },
  {
   "cell_type": "code",
   "execution_count": 41,
   "metadata": {},
   "outputs": [
    {
     "ename": "TypeError",
     "evalue": "only integer scalar arrays can be converted to a scalar index",
     "output_type": "error",
     "traceback": [
      "\u001b[0;31m---------------------------------------------------------------------------\u001b[0m",
      "\u001b[0;31mTypeError\u001b[0m                                 Traceback (most recent call last)",
      "\u001b[0;32m<ipython-input-41-7c6a290f796f>\u001b[0m in \u001b[0;36m<module>\u001b[0;34m\u001b[0m\n\u001b[0;32m----> 1\u001b[0;31m \u001b[0mfnames\u001b[0m\u001b[0;34m[\u001b[0m\u001b[0msort_ind\u001b[0m\u001b[0;34m[\u001b[0m\u001b[0minds\u001b[0m\u001b[0;34m[\u001b[0m\u001b[0;36m0\u001b[0m\u001b[0;34m]\u001b[0m\u001b[0;34m]\u001b[0m\u001b[0;34m]\u001b[0m\u001b[0;34m\u001b[0m\u001b[0;34m\u001b[0m\u001b[0m\n\u001b[0m",
      "\u001b[0;31mTypeError\u001b[0m: only integer scalar arrays can be converted to a scalar index"
     ]
    }
   ],
   "source": [
    "fnames[sort_ind[inds[0]]]"
   ]
  },
  {
   "cell_type": "code",
   "execution_count": 43,
   "metadata": {},
   "outputs": [
    {
     "data": {
      "text/plain": [
       "array([229, 227, 226, 225, 224, 221, 222, 219, 217, 216, 214, 213, 211,\n",
       "       212, 208, 205, 207, 206, 201, 202, 200, 199, 197, 195, 196, 192,\n",
       "       190, 191, 189, 188, 186, 184, 183, 182, 180, 178, 179])"
      ]
     },
     "execution_count": 43,
     "metadata": {},
     "output_type": "execute_result"
    }
   ],
   "source": [
    "sort_ind[inds[0]]"
   ]
  },
  {
   "cell_type": "code",
   "execution_count": 7,
   "metadata": {},
   "outputs": [],
   "source": [
    "from lim import lim"
   ]
  },
  {
   "cell_type": "code",
   "execution_count": 8,
   "metadata": {},
   "outputs": [],
   "source": [
    "a = lim()"
   ]
  },
  {
   "cell_type": "code",
   "execution_count": 9,
   "metadata": {},
   "outputs": [
    {
     "data": {
      "text/plain": [
       "44.53681710213777"
      ]
     },
     "execution_count": 9,
     "metadata": {},
     "output_type": "execute_result"
    }
   ],
   "source": [
    "(30 * a.Msunh).value#.to(a.Msunh).to(u.Msun)"
   ]
  },
  {
   "cell_type": "code",
   "execution_count": 22,
   "metadata": {},
   "outputs": [],
   "source": [
    "import astropy.units as u"
   ]
  },
  {
   "cell_type": "code",
   "execution_count": 10,
   "metadata": {},
   "outputs": [
    {
     "data": {
      "text/plain": [
       "array([ 0.        ,  0.10067114,  0.20134228,  0.30201342,  0.40268456,\n",
       "        0.5033557 ,  0.60402685,  0.70469799,  0.80536913,  0.90604027,\n",
       "        1.00671141,  1.10738255,  1.20805369,  1.30872483,  1.40939597,\n",
       "        1.51006711,  1.61073826,  1.7114094 ,  1.81208054,  1.91275168,\n",
       "        2.01342282,  2.11409396,  2.2147651 ,  2.31543624,  2.41610738,\n",
       "        2.51677852,  2.61744966,  2.71812081,  2.81879195,  2.91946309,\n",
       "        3.02013423,  3.12080537,  3.22147651,  3.32214765,  3.42281879,\n",
       "        3.52348993,  3.62416107,  3.72483221,  3.82550336,  3.9261745 ,\n",
       "        4.02684564,  4.12751678,  4.22818792,  4.32885906,  4.4295302 ,\n",
       "        4.53020134,  4.63087248,  4.73154362,  4.83221477,  4.93288591,\n",
       "        5.03355705,  5.13422819,  5.23489933,  5.33557047,  5.43624161,\n",
       "        5.53691275,  5.63758389,  5.73825503,  5.83892617,  5.93959732,\n",
       "        6.04026846,  6.1409396 ,  6.24161074,  6.34228188,  6.44295302,\n",
       "        6.54362416,  6.6442953 ,  6.74496644,  6.84563758,  6.94630872,\n",
       "        7.04697987,  7.14765101,  7.24832215,  7.34899329,  7.44966443,\n",
       "        7.55033557,  7.65100671,  7.75167785,  7.85234899,  7.95302013,\n",
       "        8.05369128,  8.15436242,  8.25503356,  8.3557047 ,  8.45637584,\n",
       "        8.55704698,  8.65771812,  8.75838926,  8.8590604 ,  8.95973154,\n",
       "        9.06040268,  9.16107383,  9.26174497,  9.36241611,  9.46308725,\n",
       "        9.56375839,  9.66442953,  9.76510067,  9.86577181,  9.96644295,\n",
       "       10.06711409, 10.16778523, 10.26845638, 10.36912752, 10.46979866,\n",
       "       10.5704698 , 10.67114094, 10.77181208, 10.87248322, 10.97315436,\n",
       "       11.0738255 , 11.17449664, 11.27516779, 11.37583893, 11.47651007,\n",
       "       11.57718121, 11.67785235, 11.77852349, 11.87919463, 11.97986577,\n",
       "       12.08053691, 12.18120805, 12.28187919, 12.38255034, 12.48322148,\n",
       "       12.58389262, 12.68456376, 12.7852349 , 12.88590604, 12.98657718,\n",
       "       13.08724832, 13.18791946, 13.2885906 , 13.38926174, 13.48993289,\n",
       "       13.59060403, 13.69127517, 13.79194631, 13.89261745, 13.99328859,\n",
       "       14.09395973, 14.19463087, 14.29530201, 14.39597315, 14.4966443 ,\n",
       "       14.59731544, 14.69798658, 14.79865772, 14.89932886, 15.        ])"
      ]
     },
     "execution_count": 10,
     "metadata": {},
     "output_type": "execute_result"
    }
   ],
   "source": [
    "a.zcosmo"
   ]
  },
  {
   "cell_type": "code",
   "execution_count": 14,
   "metadata": {},
   "outputs": [
    {
     "data": {
      "text/plain": [
       "{'Tsys_NEFD': <Quantity 40. K>,\n",
       " 'Nfeeds': 19,\n",
       " 'beam_FWHM': <Quantity 4.1 arcmin>,\n",
       " 'Delta_nu': <Quantity 8. GHz>,\n",
       " 'dnu': <Quantity 15.6 MHz>,\n",
       " 'tobs': <Quantity 6000. h>,\n",
       " 'Omega_field': <Quantity 2.25 deg2>,\n",
       " 'Nfield': 1,\n",
       " 'N_FG_par': 1,\n",
       " 'N_FG_perp': 1,\n",
       " 'do_FG_wedge': False,\n",
       " 'a_FG': <Quantity 0. 1 / Mpc>,\n",
       " 'b_FG': 0.0}"
      ]
     },
     "execution_count": 14,
     "metadata": {},
     "output_type": "execute_result"
    }
   ],
   "source": [
    "a._default_obs_params"
   ]
  },
  {
   "cell_type": "code",
   "execution_count": 11,
   "metadata": {},
   "outputs": [
    {
     "ename": "AttributeError",
     "evalue": "'Survey' object has no attribute 'line_nu0'",
     "output_type": "error",
     "traceback": [
      "\u001b[0;31m---------------------------------------------------------------------------\u001b[0m",
      "\u001b[0;31mAttributeError\u001b[0m                            Traceback (most recent call last)",
      "\u001b[0;32m<ipython-input-11-525559cb523e>\u001b[0m in \u001b[0;36m<module>\u001b[0;34m\u001b[0m\n\u001b[0;32m----> 1\u001b[0;31m \u001b[0mtest\u001b[0m\u001b[0;34m.\u001b[0m\u001b[0mline_nu0\u001b[0m\u001b[0;34m\u001b[0m\u001b[0;34m\u001b[0m\u001b[0m\n\u001b[0m",
      "\u001b[0;31mAttributeError\u001b[0m: 'Survey' object has no attribute 'line_nu0'"
     ]
    }
   ],
   "source": [
    "test.line_nu0"
   ]
  },
  {
   "cell_type": "code",
   "execution_count": null,
   "metadata": {},
   "outputs": [],
   "source": []
  }
 ],
 "metadata": {
  "kernelspec": {
   "display_name": "Python 3",
   "language": "python",
   "name": "python3"
  },
  "language_info": {
   "codemirror_mode": {
    "name": "ipython",
    "version": 3
   },
   "file_extension": ".py",
   "mimetype": "text/x-python",
   "name": "python",
   "nbconvert_exporter": "python",
   "pygments_lexer": "ipython3",
   "version": "3.6.8"
  }
 },
 "nbformat": 4,
 "nbformat_minor": 2
}
