{
 "cells": [
  {
   "cell_type": "code",
   "execution_count": 13,
   "metadata": {},
   "outputs": [],
   "source": [
    "import sys\n",
    "sys.path.append('../../preLIMinary/')\n",
    "sys.path.append('/home/gsatopo1/library/lim')\n",
    "from lim import lim\n",
    "import numpy as np\n",
    "import astropy.units as u\n",
    "import astropy.constants as cu\n",
    "from LIM_lightcone import paint_lightcone, make_survey, make_measurements\n",
    "import matplotlib.pyplot as plt\n",
    "from scipy.interpolate import interp1d, RegularGridInterpolator\n",
    "\n",
    "from scipy import integrate\n",
    "import matplotlib\n",
    "from mpl_toolkits.axes_grid1 import make_axes_locatable\n",
    "\n",
    "LC_path='/home/gsatopo1/data-mkamion1/MDPL2-UM-squareLC/'\n",
    "\n",
    "palette=['#1a4b6e', '#d4a95b', '#b3592e', '#3c651e', '#9B88B5', '#5f685f']\n",
    "plt.rcParams['axes.prop_cycle'] = plt.cycler(color=palette)\n",
    "plt.rcParams['figure.figsize'] = [8, 6]\n",
    "plt.rcParams['font.size'] = 16\n",
    "plt.rcParams['lines.linewidth'] = 2.5\n",
    "plt.rcParams['axes.linewidth'] = 1.5"
   ]
  },
  {
   "cell_type": "markdown",
   "metadata": {},
   "source": [
    "### Survey parameters\n",
    "We generate lightcones with the following parameters\n",
    "\n",
    "|Redshifts|$\\Omega$ (deg$^2$)|$\\theta_{\\rm FWHM}$ (arcmin)|R|\n",
    "|---|---|---|---|\n",
    "|2.5-3.5|400|2|700|"
   ]
  },
  {
   "cell_type": "code",
   "execution_count": 2,
   "metadata": {},
   "outputs": [],
   "source": [
    "def LC_params(line):\n",
    "    h=0.678\n",
    "    zmin = 2.5;zmax = 3.5\n",
    "    zmid=(zmax+zmin)/2\n",
    "    R=700\n",
    "    ang_lim=2*u.deg\n",
    "    model_params=dict(halo_lightcone_dir=LC_path, \n",
    "                      do_external_SFR = False, external_SFR = '',\n",
    "                      SFR_pars=dict(),\n",
    "                      resampler='cic',\n",
    "                      angular_supersample=1,\n",
    "                      spectral_supersample=1,\n",
    "                      cube_mode='inner_cube',\n",
    "                      Nmu=20,\n",
    "                      dk=0.02*u.Mpc**-1,\n",
    "                      seed=0)\n",
    "    obs_params=dict(zmin = zmin-0.03, zmax = zmax+0.03, \n",
    "                    RAObs_min=-ang_lim,RAObs_max=ang_lim, DECObs_min=-ang_lim,DECObs_max=ang_lim,\n",
    "                    RA_min=-ang_lim,RA_max=ang_lim, DEC_min=-ang_lim,DEC_max=ang_lim,\n",
    "                    Nfeeds=1000, beam_FWHM=2*u.arcmin, tobs=6000*u.hr, do_angular_smooth=True)\n",
    "    \n",
    "    if line=='CO':\n",
    "        nu_CO=115.271*u.GHz\n",
    "        dnu=nu_CO/(1+zmid)/R\n",
    "        model_params.update(dict(lines=dict(CO_J10=True), target_line = 'CO_J10',\n",
    "                                #models=dict(CO_J10=dict(model_name='CO_Li16',\n",
    "                                #                    model_pars={'alpha':1.37,'beta':-1.74,'delta_mf':1,'sigma_L':0.3})),\n",
    "                                 models=dict(CO_J10=dict(model_name='CO_lines_scaling_LFIR',\n",
    "                                                          model_pars={'alpha':0.67403184,'beta':4.89800039,'alpha_std':0,'beta_std':0,'sigma_L':0.2})),\n",
    "                                 LIR_pars = dict(IRX_name='Bouwens2020', log10Ms_IRX=9.15, alpha_IRX=0.97, sigma_IRX=0.2,\n",
    "                                                 K_IR=0.63*1.73e-10, K_UV=0.63*2.5e-10),                          \n",
    "                                 do_intensity=False))\n",
    "        obs_params.update(dict(nuObs_max=nu_CO/(1+zmin), nuObs_min=nu_CO/(1+zmax),\n",
    "                           dnu=dnu, \n",
    "                           Tsys=0*u.Jy/u.sr))\n",
    "        obs_params.update(model_params)\n",
    "    \n",
    "    elif line=='CII':\n",
    "        nu_CII=1900.539*u.GHz\n",
    "        dnu=nu_CII/(1+zmid)/R\n",
    "        model_params.update(dict(lines=dict(CII=True),target_line = 'CII',\n",
    "                          models=dict(CII=dict(model_name='CII_Lagache18',\n",
    "                                               model_pars={'alpha1':1.4,'alpha2':-0.07, 'beta1':7.1, 'beta2':-0.07, 'sigma_L':0.5})),\n",
    "                          do_intensity=True))\n",
    "        obs_params.update(dict(nuObs_max=nu_CII/(1+zmin), nuObs_min=nu_CII/(1+zmax),\n",
    "                               dnu=dnu,\n",
    "                               Tsys=0*u.Jy/u.sr))\n",
    "        obs_params.update(model_params)\n",
    "    \n",
    "    elif line=='Lyalpha':\n",
    "        nu_Lya=2465398.5*u.GHz\n",
    "        dnu=nu_Lya/(1+zmid)/R\n",
    "        model_params.update(dict(lines=dict(Lyalpha=True),target_line = 'Lyalpha',\n",
    "                                 models=dict(Lyalpha=dict(model_name='Lyalpha_Chung19',\n",
    "                                                          model_pars={'C':1.6e42,'xi':1.6,'zeta':0.5,\n",
    "                                                                      'psi':0.875,'z0':3.125,'f0':0.18,\n",
    "                                                                      'SFR0':0.5,'sigma_L':0.3})),\n",
    "                                 do_intensity=True))\n",
    "        obs_params.update(dict(nuObs_max=nu_Lya/(1+zmin), nuObs_min=nu_Lya/(1+zmax),\n",
    "                               dnu=dnu,\n",
    "                               Tsys=0*u.Jy/u.sr))\n",
    "        obs_params.update(model_params)\n",
    "        \n",
    "    elif line=='HI':\n",
    "        nu_HI=1.4204134*u.GHz\n",
    "        dnu=nu_HI/(1+zmid)/R\n",
    "        model_params.update(dict(lines=dict(HI=True),target_line = 'HI',\n",
    "                                 models=dict(HI=dict(model_name='HI_VN18',\n",
    "                                                     model_pars={'M0':2.9e9*u.Msun/h, 'Mmin':6.7e10*u.Msun/h, \n",
    "                                                                 'alpha':0.76,'sigma_MHI':0.2})),\n",
    "                                 do_intensity=False))\n",
    "        obs_params.update(dict(zmin = zmin-0.03, zmax = zmax+0.03,\n",
    "                               nuObs_max=nu_HI/(1+zmin), nuObs_min=nu_HI/(1+zmax),\n",
    "                        dnu=dnu,\n",
    "                        Tsys=0*u.Jy/u.sr))\n",
    "        obs_params.update(model_params)\n",
    "    return obs_params"
   ]
  },
  {
   "cell_type": "code",
   "execution_count": 3,
   "metadata": {
    "scrolled": false
   },
   "outputs": [],
   "source": [
    "LC_CO=make_measurements(LC_params('CO'))"
   ]
  },
  {
   "cell_type": "code",
   "execution_count": 4,
   "metadata": {
    "scrolled": true
   },
   "outputs": [
    {
     "name": "stderr",
     "output_type": "stream",
     "text": [
      "../../preLIMinary/source/survey.py:320: UserWarning: % of survey volume lost due to inner cube = 0.14371495576960258\n",
      "  warn(\"% of survey volume lost due to inner cube = {}\".format(1-zside*raside*decside*self.Mpch**3/self.Vsurvey))\n"
     ]
    },
    {
     "name": "stdout",
     "output_type": "stream",
     "text": [
      "/home/gsatopo1/data-mkamion1/MDPL2-UM-squareLC/lightcone_MDPL2UM_161.fits\n",
      "/home/gsatopo1/data-mkamion1/MDPL2-UM-squareLC/lightcone_MDPL2UM_162.fits\n",
      "/home/gsatopo1/data-mkamion1/MDPL2-UM-squareLC/lightcone_MDPL2UM_163.fits\n",
      "/home/gsatopo1/data-mkamion1/MDPL2-UM-squareLC/lightcone_MDPL2UM_164.fits\n",
      "/home/gsatopo1/data-mkamion1/MDPL2-UM-squareLC/lightcone_MDPL2UM_165.fits\n",
      "/home/gsatopo1/data-mkamion1/MDPL2-UM-squareLC/lightcone_MDPL2UM_166.fits\n",
      "/home/gsatopo1/data-mkamion1/MDPL2-UM-squareLC/lightcone_MDPL2UM_167.fits\n",
      "/home/gsatopo1/data-mkamion1/MDPL2-UM-squareLC/lightcone_MDPL2UM_168.fits\n",
      "/home/gsatopo1/data-mkamion1/MDPL2-UM-squareLC/lightcone_MDPL2UM_169.fits\n",
      "/home/gsatopo1/data-mkamion1/MDPL2-UM-squareLC/lightcone_MDPL2UM_170.fits\n",
      "/home/gsatopo1/data-mkamion1/MDPL2-UM-squareLC/lightcone_MDPL2UM_171.fits\n",
      "/home/gsatopo1/data-mkamion1/MDPL2-UM-squareLC/lightcone_MDPL2UM_172.fits\n",
      "/home/gsatopo1/data-mkamion1/MDPL2-UM-squareLC/lightcone_MDPL2UM_173.fits\n",
      "/home/gsatopo1/data-mkamion1/MDPL2-UM-squareLC/lightcone_MDPL2UM_174.fits\n",
      "/home/gsatopo1/data-mkamion1/MDPL2-UM-squareLC/lightcone_MDPL2UM_175.fits\n",
      "/home/gsatopo1/data-mkamion1/MDPL2-UM-squareLC/lightcone_MDPL2UM_176.fits\n",
      "/home/gsatopo1/data-mkamion1/MDPL2-UM-squareLC/lightcone_MDPL2UM_177.fits\n",
      "/home/gsatopo1/data-mkamion1/MDPL2-UM-squareLC/lightcone_MDPL2UM_178.fits\n",
      "/home/gsatopo1/data-mkamion1/MDPL2-UM-squareLC/lightcone_MDPL2UM_179.fits\n",
      "/home/gsatopo1/data-mkamion1/MDPL2-UM-squareLC/lightcone_MDPL2UM_180.fits\n",
      "/home/gsatopo1/data-mkamion1/MDPL2-UM-squareLC/lightcone_MDPL2UM_181.fits\n",
      "/home/gsatopo1/data-mkamion1/MDPL2-UM-squareLC/lightcone_MDPL2UM_182.fits\n",
      "/home/gsatopo1/data-mkamion1/MDPL2-UM-squareLC/lightcone_MDPL2UM_183.fits\n",
      "/home/gsatopo1/data-mkamion1/MDPL2-UM-squareLC/lightcone_MDPL2UM_184.fits\n",
      "/home/gsatopo1/data-mkamion1/MDPL2-UM-squareLC/lightcone_MDPL2UM_185.fits\n",
      "/home/gsatopo1/data-mkamion1/MDPL2-UM-squareLC/lightcone_MDPL2UM_186.fits\n",
      "/home/gsatopo1/data-mkamion1/MDPL2-UM-squareLC/lightcone_MDPL2UM_187.fits\n",
      "/home/gsatopo1/data-mkamion1/MDPL2-UM-squareLC/lightcone_MDPL2UM_188.fits\n",
      "The CO_J10 line requires z_max = 3.502 instead of the nominal 3.500\n"
     ]
    },
    {
     "name": "stderr",
     "output_type": "stream",
     "text": [
      "../../preLIMinary/source/survey.py:433: UserWarning: Filling the corners requires a buffering z_max = 3.502, but input z_max = 3.530. Corners will not be completely filled\n",
      "  warn('Filling the corners requires a buffering z_max = {:.3f}, but input z_max = {:.3f}. Corners will not be completely filled'.format(zbuffer,self.zmax))\n",
      "../../preLIMinary/source/survey.py:670: UserWarning: % of emitters of CO_J10 line left out filtering = 0.14319547881858818\n",
      "  warn(\"% of emitters of {} line left out filtering = {}\".format(line, 1-len(Zhalo)/len(filtering)))\n"
     ]
    }
   ],
   "source": [
    "CO_map=np.asarray(LC_CO.obs_3d_map)"
   ]
  },
  {
   "cell_type": "code",
   "execution_count": 9,
   "metadata": {},
   "outputs": [
    {
     "data": {
      "text/latex": [
       "$[13324.266,~3578.2022,~3065.8122,~2336.9578,~1903.7811,~1532.8832,~1374.7507,~1264.8347,~1148.7619,~1063.522,~1024.9273,~982.4181,~926.71825,~864.63152,~849.50118,~811.35157,~784.62048,~751.29678,~716.0108] \\; \\mathrm{3.2085656\\,Mpc^{3}\\,\\mu K^{2}}$"
      ],
      "text/plain": [
       "<Quantity [13324.2662037 ,  3578.20218373,  3065.81219212,  2336.95778146,\n",
       "            1903.78111814,  1532.88321884,  1374.75067705,  1264.83465676,\n",
       "            1148.76189508,  1063.52196753,  1024.92725861,   982.41810439,\n",
       "             926.71824737,   864.63152053,   849.5011768 ,   811.35157187,\n",
       "             784.62047553,   751.29677907,   716.01079531] 3.20857 Mpc3 uK2>"
      ]
     },
     "execution_count": 9,
     "metadata": {},
     "output_type": "execute_result"
    }
   ],
   "source": [
    "LC_CO.Pk_0"
   ]
  },
  {
   "cell_type": "code",
   "execution_count": 5,
   "metadata": {},
   "outputs": [],
   "source": [
    "LC_CII=make_measurements(LC_params('CII'))"
   ]
  },
  {
   "cell_type": "code",
   "execution_count": 6,
   "metadata": {
    "scrolled": true
   },
   "outputs": [
    {
     "name": "stderr",
     "output_type": "stream",
     "text": [
      "../../preLIMinary/source/survey.py:320: UserWarning: % of survey volume lost due to inner cube = 0.1437149557696028\n",
      "  warn(\"% of survey volume lost due to inner cube = {}\".format(1-zside*raside*decside*self.Mpch**3/self.Vsurvey))\n"
     ]
    },
    {
     "name": "stdout",
     "output_type": "stream",
     "text": [
      "/home/gsatopo1/data-mkamion1/MDPL2-UM-squareLC/lightcone_MDPL2UM_161.fits\n",
      "/home/gsatopo1/data-mkamion1/MDPL2-UM-squareLC/lightcone_MDPL2UM_162.fits\n",
      "/home/gsatopo1/data-mkamion1/MDPL2-UM-squareLC/lightcone_MDPL2UM_163.fits\n",
      "/home/gsatopo1/data-mkamion1/MDPL2-UM-squareLC/lightcone_MDPL2UM_164.fits\n",
      "/home/gsatopo1/data-mkamion1/MDPL2-UM-squareLC/lightcone_MDPL2UM_165.fits\n",
      "/home/gsatopo1/data-mkamion1/MDPL2-UM-squareLC/lightcone_MDPL2UM_166.fits\n",
      "/home/gsatopo1/data-mkamion1/MDPL2-UM-squareLC/lightcone_MDPL2UM_167.fits\n",
      "/home/gsatopo1/data-mkamion1/MDPL2-UM-squareLC/lightcone_MDPL2UM_168.fits\n",
      "/home/gsatopo1/data-mkamion1/MDPL2-UM-squareLC/lightcone_MDPL2UM_169.fits\n",
      "/home/gsatopo1/data-mkamion1/MDPL2-UM-squareLC/lightcone_MDPL2UM_170.fits\n",
      "/home/gsatopo1/data-mkamion1/MDPL2-UM-squareLC/lightcone_MDPL2UM_171.fits\n",
      "/home/gsatopo1/data-mkamion1/MDPL2-UM-squareLC/lightcone_MDPL2UM_172.fits\n",
      "/home/gsatopo1/data-mkamion1/MDPL2-UM-squareLC/lightcone_MDPL2UM_173.fits\n",
      "/home/gsatopo1/data-mkamion1/MDPL2-UM-squareLC/lightcone_MDPL2UM_174.fits\n",
      "/home/gsatopo1/data-mkamion1/MDPL2-UM-squareLC/lightcone_MDPL2UM_175.fits\n",
      "/home/gsatopo1/data-mkamion1/MDPL2-UM-squareLC/lightcone_MDPL2UM_176.fits\n",
      "/home/gsatopo1/data-mkamion1/MDPL2-UM-squareLC/lightcone_MDPL2UM_177.fits\n",
      "/home/gsatopo1/data-mkamion1/MDPL2-UM-squareLC/lightcone_MDPL2UM_178.fits\n",
      "/home/gsatopo1/data-mkamion1/MDPL2-UM-squareLC/lightcone_MDPL2UM_179.fits\n",
      "/home/gsatopo1/data-mkamion1/MDPL2-UM-squareLC/lightcone_MDPL2UM_180.fits\n",
      "/home/gsatopo1/data-mkamion1/MDPL2-UM-squareLC/lightcone_MDPL2UM_181.fits\n",
      "/home/gsatopo1/data-mkamion1/MDPL2-UM-squareLC/lightcone_MDPL2UM_182.fits\n",
      "/home/gsatopo1/data-mkamion1/MDPL2-UM-squareLC/lightcone_MDPL2UM_183.fits\n",
      "/home/gsatopo1/data-mkamion1/MDPL2-UM-squareLC/lightcone_MDPL2UM_184.fits\n",
      "/home/gsatopo1/data-mkamion1/MDPL2-UM-squareLC/lightcone_MDPL2UM_185.fits\n",
      "/home/gsatopo1/data-mkamion1/MDPL2-UM-squareLC/lightcone_MDPL2UM_186.fits\n",
      "/home/gsatopo1/data-mkamion1/MDPL2-UM-squareLC/lightcone_MDPL2UM_187.fits\n",
      "/home/gsatopo1/data-mkamion1/MDPL2-UM-squareLC/lightcone_MDPL2UM_188.fits\n",
      "The CII line requires z_max = 3.502 instead of the nominal 3.500\n"
     ]
    },
    {
     "name": "stderr",
     "output_type": "stream",
     "text": [
      "../../preLIMinary/source/survey.py:433: UserWarning: Filling the corners requires a buffering z_max = 3.502, but input z_max = 3.530. Corners will not be completely filled\n",
      "  warn('Filling the corners requires a buffering z_max = {:.3f}, but input z_max = {:.3f}. Corners will not be completely filled'.format(zbuffer,self.zmax))\n",
      "../../preLIMinary/source/survey.py:670: UserWarning: % of emitters of CII line left out filtering = 0.14319595756504577\n",
      "  warn(\"% of emitters of {} line left out filtering = {}\".format(line, 1-len(Zhalo)/len(filtering)))\n"
     ]
    }
   ],
   "source": [
    "CII_map=np.asarray(LC_CII.obs_3d_map)"
   ]
  },
  {
   "cell_type": "code",
   "execution_count": 7,
   "metadata": {},
   "outputs": [],
   "source": [
    "LC_Lya=make_measurements(LC_params('Lyalpha'))"
   ]
  },
  {
   "cell_type": "code",
   "execution_count": 8,
   "metadata": {
    "scrolled": true
   },
   "outputs": [
    {
     "name": "stderr",
     "output_type": "stream",
     "text": [
      "../../preLIMinary/source/survey.py:320: UserWarning: % of survey volume lost due to inner cube = 0.14371495576960136\n",
      "  warn(\"% of survey volume lost due to inner cube = {}\".format(1-zside*raside*decside*self.Mpch**3/self.Vsurvey))\n"
     ]
    },
    {
     "name": "stdout",
     "output_type": "stream",
     "text": [
      "/home/gsatopo1/data-mkamion1/MDPL2-UM-squareLC/lightcone_MDPL2UM_161.fits\n",
      "/home/gsatopo1/data-mkamion1/MDPL2-UM-squareLC/lightcone_MDPL2UM_162.fits\n",
      "/home/gsatopo1/data-mkamion1/MDPL2-UM-squareLC/lightcone_MDPL2UM_163.fits\n",
      "/home/gsatopo1/data-mkamion1/MDPL2-UM-squareLC/lightcone_MDPL2UM_164.fits\n",
      "/home/gsatopo1/data-mkamion1/MDPL2-UM-squareLC/lightcone_MDPL2UM_165.fits\n",
      "/home/gsatopo1/data-mkamion1/MDPL2-UM-squareLC/lightcone_MDPL2UM_166.fits\n",
      "/home/gsatopo1/data-mkamion1/MDPL2-UM-squareLC/lightcone_MDPL2UM_167.fits\n",
      "/home/gsatopo1/data-mkamion1/MDPL2-UM-squareLC/lightcone_MDPL2UM_168.fits\n",
      "/home/gsatopo1/data-mkamion1/MDPL2-UM-squareLC/lightcone_MDPL2UM_169.fits\n",
      "/home/gsatopo1/data-mkamion1/MDPL2-UM-squareLC/lightcone_MDPL2UM_170.fits\n",
      "/home/gsatopo1/data-mkamion1/MDPL2-UM-squareLC/lightcone_MDPL2UM_171.fits\n",
      "/home/gsatopo1/data-mkamion1/MDPL2-UM-squareLC/lightcone_MDPL2UM_172.fits\n",
      "/home/gsatopo1/data-mkamion1/MDPL2-UM-squareLC/lightcone_MDPL2UM_173.fits\n",
      "/home/gsatopo1/data-mkamion1/MDPL2-UM-squareLC/lightcone_MDPL2UM_174.fits\n",
      "/home/gsatopo1/data-mkamion1/MDPL2-UM-squareLC/lightcone_MDPL2UM_175.fits\n",
      "/home/gsatopo1/data-mkamion1/MDPL2-UM-squareLC/lightcone_MDPL2UM_176.fits\n",
      "/home/gsatopo1/data-mkamion1/MDPL2-UM-squareLC/lightcone_MDPL2UM_177.fits\n",
      "/home/gsatopo1/data-mkamion1/MDPL2-UM-squareLC/lightcone_MDPL2UM_178.fits\n",
      "/home/gsatopo1/data-mkamion1/MDPL2-UM-squareLC/lightcone_MDPL2UM_179.fits\n",
      "/home/gsatopo1/data-mkamion1/MDPL2-UM-squareLC/lightcone_MDPL2UM_180.fits\n",
      "/home/gsatopo1/data-mkamion1/MDPL2-UM-squareLC/lightcone_MDPL2UM_181.fits\n",
      "/home/gsatopo1/data-mkamion1/MDPL2-UM-squareLC/lightcone_MDPL2UM_182.fits\n",
      "/home/gsatopo1/data-mkamion1/MDPL2-UM-squareLC/lightcone_MDPL2UM_183.fits\n",
      "/home/gsatopo1/data-mkamion1/MDPL2-UM-squareLC/lightcone_MDPL2UM_184.fits\n",
      "/home/gsatopo1/data-mkamion1/MDPL2-UM-squareLC/lightcone_MDPL2UM_185.fits\n",
      "/home/gsatopo1/data-mkamion1/MDPL2-UM-squareLC/lightcone_MDPL2UM_186.fits\n",
      "/home/gsatopo1/data-mkamion1/MDPL2-UM-squareLC/lightcone_MDPL2UM_187.fits\n",
      "/home/gsatopo1/data-mkamion1/MDPL2-UM-squareLC/lightcone_MDPL2UM_188.fits\n",
      "The Lyalpha line requires z_max = 3.502 instead of the nominal 3.500\n"
     ]
    },
    {
     "name": "stderr",
     "output_type": "stream",
     "text": [
      "../../preLIMinary/source/survey.py:433: UserWarning: Filling the corners requires a buffering z_max = 3.502, but input z_max = 3.530. Corners will not be completely filled\n",
      "  warn('Filling the corners requires a buffering z_max = {:.3f}, but input z_max = {:.3f}. Corners will not be completely filled'.format(zbuffer,self.zmax))\n",
      "../../preLIMinary/source/survey.py:670: UserWarning: % of emitters of Lyalpha line left out filtering = 0.1431956037240525\n",
      "  warn(\"% of emitters of {} line left out filtering = {}\".format(line, 1-len(Zhalo)/len(filtering)))\n"
     ]
    }
   ],
   "source": [
    "Lya_map=np.asarray(LC_Lya.obs_3d_map)"
   ]
  },
  {
   "cell_type": "code",
   "execution_count": 9,
   "metadata": {},
   "outputs": [],
   "source": [
    "from nbodykit.source.mesh.catalog import CompensateCICShotnoise,get_compensation\n",
    "from nbodykit.algorithms import FFTPower\n",
    "\n",
    "kmin=0*u.Mpc**-1\n",
    "kmax=1*u.Mpc**-1\n",
    "dk=0.02*u.Mpc**-1\n",
    "\n",
    "CO_compensation = get_compensation(interlaced=False,resampler=LC_CO.resampler)\n",
    "COmap_to_use = LC_CO.obs_3d_map\n",
    "COmap_to_use = (COmap_to_use.r2c().apply(CO_compensation[0][1], kind=CO_compensation[0][2])).c2r()\n",
    "\n",
    "CII_compensation = get_compensation(interlaced=False,resampler=LC_CII.resampler)\n",
    "CIImap_to_use = LC_CII.obs_3d_map\n",
    "CIImap_to_use = (CIImap_to_use.r2c().apply(CII_compensation[0][1], kind=CII_compensation[0][2])).c2r()\n",
    "\n",
    "Lya_compensation = get_compensation(interlaced=False,resampler=LC_Lya.resampler)\n",
    "Lyamap_to_use = LC_Lya.obs_3d_map\n",
    "Lyamap_to_use = (Lyamap_to_use.r2c().apply(Lya_compensation[0][1], kind=Lya_compensation[0][2])).c2r()\n",
    "\n",
    "COxCO=FFTPower(COmap_to_use, '2d', Nmu=LC_CO.Nmu, poles=[0,2], los=[1,0,0], dk=dk.to(LC_CO.Mpch**-1).value, \n",
    "                 kmin=kmin.to(LC_CO.Mpch**-1).value, kmax=kmax.to(LC_CO.Mpch**-1).value,\n",
    "                 BoxSize=np.array(LC_CO.Lbox.value, dtype=np.float32))\n",
    "\n",
    "CIIxCII=FFTPower(CIImap_to_use, '2d', second=CIImap_to_use, Nmu=LC_CII.Nmu, poles=[0,2], los=[1,0,0], \n",
    "                dk=dk.to(LC_CII.Mpch**-1).value, kmin=kmin.to(LC_CII.Mpch**-1).value, \n",
    "                kmax=kmax.to(LC_CII.Mpch**-1).value, BoxSize=np.array(LC_CII.Lbox.value, dtype=np.float32))\n",
    "\n",
    "LyaxLya=FFTPower(Lyamap_to_use, '2d', Nmu=LC_Lya.Nmu, poles=[0,2], los=[1,0,0], \n",
    "                dk=dk.to(LC_CO.Mpch**-1).value, kmin=kmin.to(LC_CO.Mpch**-1).value, \n",
    "                kmax=kmax.to(LC_CO.Mpch**-1).value, BoxSize=np.array(LC_Lya.Lbox.value, dtype=np.float32))\n",
    "\n",
    "COxCII=FFTPower(COmap_to_use, '2d', second=CIImap_to_use, Nmu=LC_CO.Nmu, poles=[0,2], los=[1,0,0], \n",
    "                dk=dk.to(LC_CO.Mpch**-1).value, kmin=kmin.to(LC_CO.Mpch**-1).value, \n",
    "                kmax=kmax.to(LC_CO.Mpch**-1).value, BoxSize=np.array(LC_CO.Lbox.value, dtype=np.float32))\n",
    "\n",
    "COxLya=FFTPower(COmap_to_use, '2d', second=Lyamap_to_use, Nmu=LC_CO.Nmu, poles=[0,2], los=[1,0,0], \n",
    "                dk=dk.to(LC_CO.Mpch**-1).value, kmin=kmin.to(LC_CO.Mpch**-1).value, \n",
    "                kmax=kmax.to(LC_CO.Mpch**-1).value, BoxSize=np.array(LC_CO.Lbox.value, dtype=np.float32))\n",
    "\n",
    "CIIxLya=FFTPower(CIImap_to_use, '2d', second=Lyamap_to_use, Nmu=LC_CII.Nmu, poles=[0,2], los=[1,0,0], \n",
    "                dk=dk.to(LC_CII.Mpch**-1).value, kmin=kmin.to(LC_CII.Mpch**-1).value, \n",
    "                kmax=kmax.to(LC_CII.Mpch**-1).value, BoxSize=np.array(LC_CII.Lbox.value, dtype=np.float32))\n"
   ]
  },
  {
   "cell_type": "code",
   "execution_count": 10,
   "metadata": {},
   "outputs": [],
   "source": [
    "kCOxCO=(COxCO.poles['k']*LC_CO.Mpch**-1).to(u.Mpc**-1)\n",
    "P0_COxCO = (COxCO.poles['power_0'].real*LC_CO.Mpch**3).to(u.Mpc**3)*LC_CO.unit**2\n",
    "\n",
    "kCIIxCII=(CIIxCII.poles['k']*LC_CO.Mpch**-1).to(u.Mpc**-1)\n",
    "P0_CIIxCII = (CIIxCII.poles['power_0'].real*LC_CO.Mpch**3).to(u.Mpc**3)*LC_CII.unit**2\n",
    "\n",
    "kLyaxLya=(LyaxLya.poles['k']*LC_CO.Mpch**-1).to(u.Mpc**-1)\n",
    "P0_LyaxLya = (LyaxLya.poles['power_0'].real*LC_CO.Mpch**3).to(u.Mpc**3)*LC_Lya.unit**2\n",
    "\n",
    "kCOxCII=(COxCII.poles['k']*LC_CO.Mpch**-1).to(u.Mpc**-1)\n",
    "P0_COxCII = (COxCII.poles['power_0'].real*LC_CO.Mpch**3).to(u.Mpc**3)*LC_CO.unit*LC_CII.unit\n",
    "\n",
    "kCOxLya=(COxLya.poles['k']*LC_CO.Mpch**-1).to(u.Mpc**-1)\n",
    "P0_COxLya = (COxLya.poles['power_0'].real*LC_CO.Mpch**3).to(u.Mpc**3)*LC_CO.unit*LC_Lya.unit\n",
    "\n",
    "kCIIxLya=(CIIxLya.poles['k']*LC_CO.Mpch**-1).to(u.Mpc**-1)\n",
    "P0_CIIxLya = (CIIxLya.poles['power_0'].real*LC_CO.Mpch**3).to(u.Mpc**3)*LC_CII.unit*LC_Lya.unit"
   ]
  },
  {
   "cell_type": "code",
   "execution_count": 35,
   "metadata": {},
   "outputs": [
    {
     "data": {
      "image/png": "[encoded data removed]",
      "text/plain": [
       "<Figure size 864x360 with 2 Axes>"
      ]
     },
     "metadata": {
      "needs_background": "light"
     },
     "output_type": "display_data"
    }
   ],
   "source": [
    "plt.figure(figsize=(12,5))\n",
    "plt.subplot(1,2,1)\n",
    "plt.loglog(kCOxCO, P0_COxCO)\n",
    "plt.loglog(kCOxCII, P0_COxCII)\n",
    "plt.loglog(kCIIxCII, P0_CIIxCII)\n",
    "\n",
    "plt.subplot(1,2,2)\n",
    "plt.plot(kCOxCII, P0_COxCII/np.sqrt(P0_COxCO*P0_CIIxCII))\n",
    "plt.xscale('log')"
   ]
  },
  {
   "cell_type": "code",
   "execution_count": 25,
   "metadata": {},
   "outputs": [
    {
     "data": {
      "image/png": "[encoded data removed]",
      "text/plain": [
       "<Figure size 576x432 with 1 Axes>"
      ]
     },
     "metadata": {
      "needs_background": "light"
     },
     "output_type": "display_data"
    }
   ],
   "source": [
    "plt.plot(kCOxCII, P0_COxCII/np.sqrt(P0_COxCO*P0_CIIxCII), label='COxCII')\n",
    "plt.plot(kCOxLya, P0_COxLya/np.sqrt(P0_COxCO*P0_LyaxLya), label=r'COxLy$\\alpha$')\n",
    "plt.plot(kCIIxLya, P0_CIIxLya/np.sqrt(P0_CIIxCII*P0_LyaxLya), label=r'CIIxLy$\\alpha$')\n",
    "plt.legend()\n",
    "plt.xlim(0.035, 1.1)\n",
    "plt.ylim(0.35, 0.9)\n",
    "plt.xlabel(\"$k$ [Mpc$^{-1}]$\")\n",
    "plt.ylabel(r'$r(k) = \\frac{P_{XY}}{\\sqrt{P_{XX}P_{YY}}}$', fontsize=18)\n",
    "plt.xscale('log')"
   ]
  },
  {
   "cell_type": "code",
   "execution_count": null,
   "metadata": {},
   "outputs": [],
   "source": []
  }
 ],
 "metadata": {
  "kernelspec": {
   "display_name": "Python [conda env:py3_env] *",
   "language": "python",
   "name": "conda-env-py3_env-py"
  },
  "language_info": {
   "codemirror_mode": {
    "name": "ipython",
    "version": 3
   },
   "file_extension": ".py",
   "mimetype": "text/x-python",
   "name": "python",
   "nbconvert_exporter": "python",
   "pygments_lexer": "ipython3",
   "version": "3.7.12"
  }
 },
 "nbformat": 4,
 "nbformat_minor": 2
}
