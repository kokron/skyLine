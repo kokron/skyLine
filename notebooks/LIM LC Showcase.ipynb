{
 "cells": [
  {
   "cell_type": "code",
   "execution_count": 38,
   "metadata": {},
   "outputs": [],
   "source": [
    "import sys\n",
    "sys.path.append('../../preLIMinary/')\n",
    "sys.path.append('/home-2/gsatopo1@jhu.edu/library/my_lim')\n",
    "from lim import lim\n",
    "import numpy as np\n",
    "import astropy.units as u\n",
    "from LIM_lightcone import paint_lightcone, make_survey, make_measurements\n",
    "import matplotlib.pyplot as plt\n",
    "from scipy.interpolate import interp1d, interp2d\n",
    "from scipy import integrate\n",
    "import matplotlib\n",
    "from scipy.optimize import curve_fit\n",
    "import source.tools._utils as ut\n",
    "import source.tools._vid_tools as vut\n",
    "import matplotlib as mpl\n",
    "from mpl_toolkits.axes_grid1 import make_axes_locatable\n",
    "\n",
    "palette=['#165783', '#cd9b00', '#ad321f', '#3c651e', '#9B88B5', '#5f685f']\n",
    "plt.rcParams['axes.prop_cycle'] = plt.cycler(color=palette)\n",
    "plt.rcParams['figure.figsize'] = [8.0, 6.0]\n",
    "plt.rcParams['font.size'] = 16\n",
    "plt.rcParams['lines.linewidth'] = 2.5\n",
    "plt.rcParams['axes.linewidth'] = 1.5"
   ]
  },
  {
   "cell_type": "markdown",
   "metadata": {},
   "source": [
    "## Surveys and models\n",
    "We generate lightcones with $\\Omega_{\\rm field} = 400$deg$^2$ but sensitivities corresponding to 3 main experiments: COMAP, EXCLAIM, and HETDEX.\n",
    "\n",
    "Line | Redshifts | $\\sigma_N$ ($\\mu$K) | $\\theta_{\\rm FWHM}$ (arcmin)|\n",
    " --- |    ---    |          ---        |            ---              |\n",
    " CO  | 2.4-3.4   |           5         |         4.5 arcmin          |"
   ]
  },
  {
   "cell_type": "code",
   "execution_count": 4,
   "metadata": {},
   "outputs": [],
   "source": [
    "def LC_params(line):\n",
    "    if line=='CO':\n",
    "        nu_CO=115.271*u.GHz\n",
    "        z_min = 2.4\n",
    "        z_max = 3.4\n",
    "        model_params=dict(halo_lightcone_dir='/home-2/gsatopo1@jhu.edu/scratch/MDPL2-UM-squareLC/', \n",
    "                          lines=dict(CO=True),\n",
    "                          models=dict(CO=dict(model_name='CO_Li16',\n",
    "                                              model_pars={'alpha':1.37,'beta':-1.74,'delta_mf':1,'sigma_L':0.3})),\n",
    "                          do_external_SFR = False, external_SFR = '',\n",
    "                          SFR_pars=dict(),\n",
    "                          supersample=1,\n",
    "                          Nmu=10,\n",
    "                          dk=0.02*u.Mpc**-1)\n",
    "        obs_params=dict(zmin = z_min-0.03, zmax = z_max+0.03,\n",
    "                        RAObs_min=-10*u.deg,RAObs_max=10*u.deg,\n",
    "                        DECObs_min=-10*u.deg,DECObs_max=10*u.deg,\n",
    "                        RA_min=-10*u.deg,RA_max=10*u.deg,\n",
    "                        DEC_min=-10*u.deg,DEC_max=10*u.deg,\n",
    "                        nuObs_max=nu_CO/(1+z_min), nuObs_min=nu_CO/(1+z_max),\n",
    "                        dnu=31.25*u.MHz,\n",
    "                        Tsys=(45*u.K/(69.4)**0.5)*np.sqrt(4/400),\n",
    "                        Nfeeds=19*2,\n",
    "                        beam_FWHM=4.5*u.arcmin,\n",
    "                        tobs=1000*u.hr,\n",
    "                        linear_VID_bin=False, Tmin_VID = 1.0e-4*u.uK,\n",
    "                        do_smooth=True)\n",
    "        obs_params.update(model_params)\n",
    "    elif line=='CII':\n",
    "        nu_CII=1900.539*u.GHz\n",
    "        zmin_CII = 3.4\n",
    "        zmax_CII = 3.9\n",
    "        CII=make_measurements(dict(halo_lightcone_dir='/home/gsatopolito/JHU/Research/SQLC files/',\n",
    "                                  lines=dict(CII=True),\n",
    "                                   target_line = 'CII',\n",
    "                                  models=dict(CII=dict(model_name='CII_Silva15',model_pars={'aLCII':1.,'bLCII':6.9647, 'sigma_L':0.3})),\n",
    "                                   do_external_SFR = False, external_SFR = '',\n",
    "                                  SFR_pars=dict(),\n",
    "                                  supersample=1,\n",
    "                                  Nmu=10,\n",
    "                                  dk=0.02*u.Mpc**-1,\n",
    "                                  zmin = zmin_CII-0.03, zmax = zmax_CII+0.03,\n",
    "                                  RAObs_min=-0.5*u.deg,RAObs_max=0.5*u.deg,\n",
    "                                  DECObs_min=-0.5*u.deg,DECObs_max=0.5*u.deg,\n",
    "                                  RA_min=-0.5*u.deg,RA_max=0.5*u.deg,\n",
    "                                  DEC_min=-0.5*u.deg,DEC_max=0.5*u.deg,\n",
    "                                  nuObs_max=nu_CII/(1+zmin_CII), nuObs_min=nu_CII/(1+zmax_CII),\n",
    "                                  beam_FWHM=30*u.arcsec,\n",
    "                                  dnu=4.1*u.GHz,\n",
    "                                  Tsys=(8/400)*61500*((np.pi/(4.*np.log(2))*(30*u.arcsec)**2).to(u.sr)).value*u.Jy*u.s**0.5, \n",
    "                                  Nfeeds=2,\n",
    "                                  tobs=4000*u.hr,\n",
    "                                  linear_VID_bin=False, Tmin_VID = 1.0e-4*u.uK,\n",
    "                                  do_smooth=True))\n",
    "    return obs_params"
   ]
  },
  {
   "cell_type": "code",
   "execution_count": 5,
   "metadata": {},
   "outputs": [],
   "source": [
    "LC_CO=make_measurements(LC_params('CO'))"
   ]
  },
  {
   "cell_type": "code",
   "execution_count": 6,
   "metadata": {},
   "outputs": [
    {
     "name": "stdout",
     "output_type": "stream",
     "text": [
      "/home-2/gsatopo1@jhu.edu/scratch/MDPL2-UM-squareLC/lightcone_MDPL2UM_158.fits\n",
      "/home-2/gsatopo1@jhu.edu/scratch/MDPL2-UM-squareLC/lightcone_MDPL2UM_159.fits\n",
      "/home-2/gsatopo1@jhu.edu/scratch/MDPL2-UM-squareLC/lightcone_MDPL2UM_160.fits\n",
      "/home-2/gsatopo1@jhu.edu/scratch/MDPL2-UM-squareLC/lightcone_MDPL2UM_161.fits\n",
      "/home-2/gsatopo1@jhu.edu/scratch/MDPL2-UM-squareLC/lightcone_MDPL2UM_162.fits\n",
      "/home-2/gsatopo1@jhu.edu/scratch/MDPL2-UM-squareLC/lightcone_MDPL2UM_163.fits\n",
      "/home-2/gsatopo1@jhu.edu/scratch/MDPL2-UM-squareLC/lightcone_MDPL2UM_164.fits\n",
      "/home-2/gsatopo1@jhu.edu/scratch/MDPL2-UM-squareLC/lightcone_MDPL2UM_165.fits\n",
      "/home-2/gsatopo1@jhu.edu/scratch/MDPL2-UM-squareLC/lightcone_MDPL2UM_166.fits\n",
      "/home-2/gsatopo1@jhu.edu/scratch/MDPL2-UM-squareLC/lightcone_MDPL2UM_167.fits\n",
      "/home-2/gsatopo1@jhu.edu/scratch/MDPL2-UM-squareLC/lightcone_MDPL2UM_168.fits\n",
      "/home-2/gsatopo1@jhu.edu/scratch/MDPL2-UM-squareLC/lightcone_MDPL2UM_169.fits\n",
      "/home-2/gsatopo1@jhu.edu/scratch/MDPL2-UM-squareLC/lightcone_MDPL2UM_170.fits\n",
      "/home-2/gsatopo1@jhu.edu/scratch/MDPL2-UM-squareLC/lightcone_MDPL2UM_171.fits\n",
      "/home-2/gsatopo1@jhu.edu/scratch/MDPL2-UM-squareLC/lightcone_MDPL2UM_172.fits\n",
      "/home-2/gsatopo1@jhu.edu/scratch/MDPL2-UM-squareLC/lightcone_MDPL2UM_173.fits\n",
      "/home-2/gsatopo1@jhu.edu/scratch/MDPL2-UM-squareLC/lightcone_MDPL2UM_174.fits\n",
      "/home-2/gsatopo1@jhu.edu/scratch/MDPL2-UM-squareLC/lightcone_MDPL2UM_175.fits\n",
      "/home-2/gsatopo1@jhu.edu/scratch/MDPL2-UM-squareLC/lightcone_MDPL2UM_176.fits\n",
      "/home-2/gsatopo1@jhu.edu/scratch/MDPL2-UM-squareLC/lightcone_MDPL2UM_177.fits\n",
      "/home-2/gsatopo1@jhu.edu/scratch/MDPL2-UM-squareLC/lightcone_MDPL2UM_178.fits\n",
      "/home-2/gsatopo1@jhu.edu/scratch/MDPL2-UM-squareLC/lightcone_MDPL2UM_179.fits\n",
      "/home-2/gsatopo1@jhu.edu/scratch/MDPL2-UM-squareLC/lightcone_MDPL2UM_180.fits\n",
      "/home-2/gsatopo1@jhu.edu/scratch/MDPL2-UM-squareLC/lightcone_MDPL2UM_181.fits\n",
      "/home-2/gsatopo1@jhu.edu/scratch/MDPL2-UM-squareLC/lightcone_MDPL2UM_182.fits\n",
      "/home-2/gsatopo1@jhu.edu/scratch/MDPL2-UM-squareLC/lightcone_MDPL2UM_183.fits\n",
      "/home-2/gsatopo1@jhu.edu/scratch/MDPL2-UM-squareLC/lightcone_MDPL2UM_184.fits\n",
      "/home-2/gsatopo1@jhu.edu/scratch/MDPL2-UM-squareLC/lightcone_MDPL2UM_185.fits\n",
      "/home-2/gsatopo1@jhu.edu/scratch/MDPL2-UM-squareLC/lightcone_MDPL2UM_186.fits\n"
     ]
    },
    {
     "name": "stderr",
     "output_type": "stream",
     "text": [
      "../../preLIMinary/source/line_models.py:34: RuntimeWarning: divide by zero encountered in log10\n",
      "  log10_LCO = (np.log10(LIR) - beta)/alpha\n"
     ]
    }
   ],
   "source": [
    "CO_map=np.asarray(LC_CO.obs_3d_map)"
   ]
  },
  {
   "cell_type": "markdown",
   "metadata": {},
   "source": [
    "### Luminosity function"
   ]
  },
  {
   "cell_type": "code",
   "execution_count": 7,
   "metadata": {},
   "outputs": [
    {
     "name": "stderr",
     "output_type": "stream",
     "text": [
      "/home-2/gsatopo1@jhu.edu/library/py3_env/lib/python3.7/site-packages/numpy/core/fromnumeric.py:3373: RuntimeWarning: Mean of empty slice.\n",
      "  out=out, **kwargs)\n",
      "/home-2/gsatopo1@jhu.edu/library/py3_env/lib/python3.7/site-packages/numpy/core/_methods.py:170: RuntimeWarning: invalid value encountered in double_scalars\n",
      "  ret = ret.dtype.type(ret / rcount)\n"
     ]
    }
   ],
   "source": [
    "inds_RA = (LC_CO.halo_catalog['RA'] > LC_CO.RAObs_min.value)&(LC_CO.halo_catalog['RA'] < LC_CO.RAObs_max.value)\n",
    "inds_DEC = (LC_CO.halo_catalog['DEC'] > LC_CO.DECObs_min.value)&(LC_CO.halo_catalog['DEC'] < LC_CO.DECObs_max.value)\n",
    "inds_sky = inds_RA&inds_DEC\n",
    "\n",
    "inds = (LC_CO.nuObs_line_halo['CO'] >= LC_CO.nuObs_min)&(LC_CO.nuObs_line_halo['CO'] <= LC_CO.nuObs_max)&inds_sky\n",
    "M_in_survey = LC_CO.halo_catalog['M_HALO'][inds]*LC_CO.Msunh.to(LC_CO.Msunh).value\n",
    "\n",
    "logMcat=np.log10(M_in_survey)\n",
    "LCO = LC_CO.halos_in_survey['CO']['Lhalo'].value\n",
    "logM=np.linspace(np.min(logMcat), np.max(logMcat), 50)\n",
    "\n",
    "meanLCO=[]\n",
    "for i in range(len(logM)-1):\n",
    "    inds = (logMcat>=logM[i])&(logMcat<logM[i+1])&(LCO>0)\n",
    "    Lbin = LCO[inds]\n",
    "    meanLCO.append(np.mean(Lbin))     \n",
    "\n",
    "meanLCO = np.asarray(meanLCO)"
   ]
  },
  {
   "cell_type": "code",
   "execution_count": 31,
   "metadata": {},
   "outputs": [],
   "source": [
    "grey='#324356'\n",
    "turquoise='#54858a'\n",
    "#aqua='#5ca191'\n",
    "yellow='#f0db92'\n",
    "yellow_orange='#edc080'\n",
    "orange='#C37854'\n",
    "cmap = matplotlib.colors.LinearSegmentedColormap.from_list(\"\", [grey,turquoise,yellow,yellow_orange,orange])"
   ]
  },
  {
   "cell_type": "code",
   "execution_count": 50,
   "metadata": {},
   "outputs": [
    {
     "data": {
      "image/png": "[encoded data removed]",
      "text/plain": [
       "<Figure size 576x360 with 1 Axes>"
      ]
     },
     "metadata": {
      "needs_background": "light"
     },
     "output_type": "display_data"
    }
   ],
   "source": [
    "fig = plt.figure(figsize=(8,5))\n",
    "ax = fig.add_subplot(1, 1, 1) # nrows, ncols, index\n",
    "\n",
    "ax.hist2d(logMcat[LCO>0], np.log10(LCO[LCO>0]), bins=[50, 40], norm=mpl.colors.LogNorm(), cmap=cmap, density=True)\n",
    "ax.plot(logM[:-1], np.log10(meanLCO), color=grey)\n",
    "ax.set_facecolor(grey)\n",
    "ax.set_ylim(-1, 7)\n",
    "#plt.colorbar()\n",
    "plt.xlabel(r'$\\log$(M/M$_{\\odot}$)')\n",
    "plt.ylabel(r'$\\log$(L$_{\\rm CO}$/L$_{\\odot}$)')\n",
    "plt.show()"
   ]
  }
 ],
 "metadata": {
  "kernelspec": {
   "display_name": "Python [conda env:py3_env]",
   "language": "python",
   "name": "conda-env-py3_env-py"
  }
 },
 "nbformat": 4,
 "nbformat_minor": 2
}
