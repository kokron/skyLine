{
 "cells": [
  {
   "cell_type": "code",
   "execution_count": 1,
   "metadata": {},
   "outputs": [],
   "source": [
    "import numpy as np"
   ]
  },
  {
   "cell_type": "code",
   "execution_count": 2,
   "metadata": {},
   "outputs": [],
   "source": [
    "tab = np.loadtxt('../SFR_tables/sfr_table_normalmean_UniverseMachine_medianFalse.dat')"
   ]
  },
  {
   "cell_type": "code",
   "execution_count": 4,
   "metadata": {},
   "outputs": [],
   "source": [
    "def clean(infile,outfile):\n",
    "    tab = np.loadtxt(infile)\n",
    "    zp1 = tab[:,0]+1\n",
    "    logM = tab[:,1]#+np.log10(1./0.678)\n",
    "    logSFR = tab[:,2]\n",
    "    scat = tab[:,3]\n",
    "    \n",
    "    zz = np.unique(zp1)\n",
    "    MM = np.unique(logM)\n",
    "    \n",
    "    logSFR[np.isnan(logSFR)] = -40.\n",
    "    logSFR[scat==0] = -40.\n",
    "    \n",
    "    zg,Mg = np.meshgrid(zz,MM)\n",
    "    zd = zg.flatten()\n",
    "    Md = Mg.flatten()\n",
    "    SFRd = np.zeros(len(zd))\n",
    "    scatd = np.zeros(len(zd))\n",
    "    \n",
    "    for i in range(len(zd)):\n",
    "        SFRd[i] = logSFR[np.where(np.logical_and(zp1==zd[i],logM==Md[i]))]\n",
    "        scatd[i] = scat[np.where(np.logical_and(zp1==zd[i],logM==Md[i]))]\n",
    "        \n",
    "    TAB = np.zeros((len(zd),4))\n",
    "    TAB[:,0] = zd\n",
    "    TAB[:,1] = Md\n",
    "    TAB[:,2] = SFRd\n",
    "    TAB[:,3] = scatd\n",
    "    np.savetxt(outfile,TAB)\n",
    "    \n",
    "    return"
   ]
  },
  {
   "cell_type": "code",
   "execution_count": 29,
   "metadata": {},
   "outputs": [
    {
     "data": {
      "text/plain": [
       "(15372, 4)"
      ]
     },
     "execution_count": 29,
     "metadata": {},
     "output_type": "execute_result"
    }
   ],
   "source": [
    "clean('../SFR_tables/sfr_table_UniverseMachine.dat','../SFR_tables/sfr_table_UniverseMachine_clean.dat')\n",
    "clean('../SFR_tables/sfr_table_UniverseMachine_medianTrue.dat','../SFR_tables/sfr_table_UniverseMachine_medianTrue_clean.dat')\n",
    "clean()\n"
   ]
  },
  {
   "cell_type": "code",
   "execution_count": 30,
   "metadata": {},
   "outputs": [],
   "source": [
    "zp1 = tab[:,0]+1\n",
    "logM = 10**tab[:,1]#*-np.log10(1./0.678)\n",
    "logSFR = tab[:,2]\n",
    "scat = tab[:,3]"
   ]
  },
  {
   "cell_type": "code",
   "execution_count": 8,
   "metadata": {},
   "outputs": [],
   "source": [
    "zz = np.unique(zp1)\n",
    "MM = np.unique(logM)"
   ]
  },
  {
   "cell_type": "code",
   "execution_count": 9,
   "metadata": {},
   "outputs": [
    {
     "data": {
      "text/plain": [
       "15372"
      ]
     },
     "execution_count": 9,
     "metadata": {},
     "output_type": "execute_result"
    }
   ],
   "source": [
    "len(zz)*len(MM)"
   ]
  },
  {
   "cell_type": "code",
   "execution_count": 10,
   "metadata": {},
   "outputs": [],
   "source": [
    "logSFR[np.isnan(logSFR)] = -40.\n",
    "logSFR[scat==0] = -40."
   ]
  },
  {
   "cell_type": "code",
   "execution_count": 11,
   "metadata": {},
   "outputs": [],
   "source": [
    "zg,Mg = np.meshgrid(zz,MM)"
   ]
  },
  {
   "cell_type": "code",
   "execution_count": 12,
   "metadata": {},
   "outputs": [],
   "source": [
    "zd = zg.flatten()"
   ]
  },
  {
   "cell_type": "code",
   "execution_count": 13,
   "metadata": {},
   "outputs": [],
   "source": [
    "Md = Mg.flatten()"
   ]
  },
  {
   "cell_type": "code",
   "execution_count": 14,
   "metadata": {},
   "outputs": [],
   "source": [
    "SFRd = np.zeros(len(zd))\n",
    "scatd = np.zeros(len(zd))"
   ]
  },
  {
   "cell_type": "code",
   "execution_count": 15,
   "metadata": {},
   "outputs": [],
   "source": [
    "for i in range(len(zd)):\n",
    "    SFRd[i] = logSFR[np.where(np.logical_and(zp1==zd[i],logM==Md[i]))]\n",
    "    scatd[i] = scat[np.where(np.logical_and(zp1==zd[i],logM==Md[i]))]"
   ]
  },
  {
   "cell_type": "code",
   "execution_count": 16,
   "metadata": {},
   "outputs": [],
   "source": [
    "TAB = np.zeros((len(zd),4))\n",
    "TAB[:,0] = zd\n",
    "TAB[:,1] = Md\n",
    "TAB[:,2] = SFRd\n",
    "TAB[:,3] = scatd\n",
    "np.savetxt('../SFR_tables/sfr_table_UniverseMachine_mean_clean.dat',TAB)"
   ]
  },
  {
   "cell_type": "code",
   "execution_count": 25,
   "metadata": {},
   "outputs": [],
   "source": [
    "dd = np.loadtxt('../SFR_tables/sfr_table_UniverseMachine_mean_clean.dat')"
   ]
  },
  {
   "cell_type": "code",
   "execution_count": 27,
   "metadata": {},
   "outputs": [
    {
     "data": {
      "text/plain": [
       "array([-1.89373427e+14, -1.68779244e+14, -1.50424660e+14, -1.34066119e+14,\n",
       "       -1.19486279e+14, -1.06492259e+14, -9.49113254e+13, -8.45898078e+13,\n",
       "       -7.53907456e+13, -6.71919180e+13, -5.98848599e+13, -5.33724376e+13,\n",
       "       -4.75682351e+13, -4.23952341e+13, -3.77847052e+13, -3.36756540e+13,\n",
       "       -3.00134582e+13, -2.67495228e+13, -2.38405373e+13, -2.12478523e+13,\n",
       "       -1.89371683e+13, -1.68777690e+13, -1.50423274e+13, -1.34064884e+13,\n",
       "       -1.19485454e+13, -1.06491278e+13, -9.49104512e+12, -8.45890287e+12,\n",
       "       -7.53900512e+12, -6.71914538e+12, -5.98843084e+12, -5.33719460e+12,\n",
       "       -4.75677970e+12, -4.23948437e+12, -3.77844442e+12, -3.36753438e+12,\n",
       "       -3.00131817e+12, -2.67492764e+12, -2.38403177e+12, -2.12477055e+12,\n",
       "       -1.89369939e+12, -1.68776135e+12, -1.50421889e+12, -1.34063650e+12,\n",
       "       -1.19484354e+12, -1.06490297e+12, -9.49095771e+11, -8.45882496e+11,\n",
       "       -7.53893568e+11, -6.71908350e+11, -5.98838947e+11, -5.33714545e+11,\n",
       "       -4.75673589e+11, -4.23944532e+11, -3.77840962e+11, -3.36751112e+11,\n",
       "       -3.00129053e+11, -2.67490300e+11, -2.38400981e+11, -2.12475098e+11,\n",
       "       -1.89368630e+11, -1.68774581e+11, -1.50420504e+11, -1.34062415e+11,\n",
       "       -1.19483253e+11, -1.06489561e+11, -9.49087029e+10, -8.45874705e+10,\n",
       "       -7.53886625e+10, -6.71902161e+10, -5.98833432e+10, -5.33710858e+10,\n",
       "       -4.75669207e+10, -4.23940627e+10, -3.77837482e+10, -3.36748010e+10,\n",
       "       -3.00126980e+10, -2.67487837e+10, -2.38398785e+10, -2.12473141e+10,\n",
       "       -1.89366886e+10, -1.68773415e+10, -1.50419118e+10, -1.34061180e+10,\n",
       "       -1.19482153e+10, -1.06488581e+10, -9.49080473e+09, -8.45866914e+09,\n",
       "       -7.53879681e+09, -6.71895973e+09, -5.98827916e+09, -5.33705942e+09,\n",
       "       -4.75665922e+09, -4.23936723e+09, -3.77834002e+09, -3.36744909e+09,\n",
       "       -3.00124216e+09, -2.67485989e+09, -2.38396590e+09, -2.12471184e+09,\n",
       "       -1.89365142e+09, -1.68771861e+09, -1.50418079e+09, -1.34059945e+09,\n",
       "       -1.19481052e+09, -1.06487600e+09, -9.49071732e+08, -8.45861071e+08,\n",
       "       -7.53872738e+08, -6.71889785e+08, -5.98822401e+08, -5.33701027e+08,\n",
       "       -4.75661541e+08, -4.23933794e+08, -3.77830522e+08, -3.36741807e+08,\n",
       "       -3.00121451e+08, -2.67483525e+08, -2.38394943e+08, -2.12469227e+08,\n",
       "       -1.89363398e+08, -1.68770306e+08])"
      ]
     },
     "execution_count": 27,
     "metadata": {},
     "output_type": "execute_result"
    }
   ],
   "source": [
    "np.unique(dd[:,1])"
   ]
  },
  {
   "cell_type": "markdown",
   "metadata": {},
   "source": [
    "# test"
   ]
  },
  {
   "cell_type": "code",
   "execution_count": 17,
   "metadata": {},
   "outputs": [],
   "source": [
    "from scipy.interpolate import interp2d,interp1d\n",
    "import matplotlib.pyplot as plt"
   ]
  },
  {
   "cell_type": "code",
   "execution_count": 18,
   "metadata": {},
   "outputs": [],
   "source": [
    "def SFR_Mz_2dinterp(M,z,filename):\n",
    "    '''\n",
    "    Returns SFR(M,z) interpolated from tables following the same order as\n",
    "    the function Behroozi_SFR. The table includes 1+z, log10(Mhalo/Msun) and \n",
    "    SFR (Msun/yr)\n",
    "    '''\n",
    "    x = np.loadtxt(filename)\n",
    "    zb = np.unique(x[:,0])-1.\n",
    "    logMb = np.unique(x[:,1])\n",
    "    logSFRb = x[:,2].reshape(len(zb),len(logMb),order='F')\n",
    "    \n",
    "    logSFR_interp = interp2d(logMb,zb,logSFRb,bounds_error=False,fill_value=-40.)\n",
    "    \n",
    "    logM = np.log10(M)\n",
    "    if np.array(z).size>1:\n",
    "        SFR = np.zeros(logM.size)\n",
    "        for ii in range(0,logM.size):\n",
    "            SFR[ii] = 10.**logSFR_interp(logM[ii],z[ii])\n",
    "    else:\n",
    "        SFR = 10.**logSFR_interp(logM,z)\n",
    "    \n",
    "    return SFR\n",
    " "
   ]
  },
  {
   "cell_type": "code",
   "execution_count": 19,
   "metadata": {},
   "outputs": [],
   "source": [
    "MM = np.logspace(8,15,1000)\n",
    "ZZ = 2.8"
   ]
  },
  {
   "cell_type": "code",
   "execution_count": 20,
   "metadata": {},
   "outputs": [],
   "source": [
    "BWC = SFR_Mz_2dinterp(MM,ZZ,'../SFR_tables/sfr_table_Behroozi.dat')\n",
    "UM = SFR_Mz_2dinterp(MM,ZZ,'../SFR_tables/sfr_table_UniverseMachine_Median_clean.dat')\n",
    "UMq = SFR_Mz_2dinterp(MM,ZZ,'../SFR_tables/sfr_table_UniverseMachine_clean.dat')\n",
    "UMm = SFR_Mz_2dinterp(MM,ZZ,'../SFR_tables/sfr_table_UniverseMachine_mean_clean.dat')"
   ]
  },
  {
   "cell_type": "code",
   "execution_count": 24,
   "metadata": {},
   "outputs": [
    {
     "data": {
      "text/plain": [
       "Text(0.5, 1.0, 'z=2.8')"
      ]
     },
     "execution_count": 24,
     "metadata": {},
     "output_type": "execute_result"
    },
    {
     "data": {
      "image/png": "[encoded data removed]",
      "text/plain": [
       "<Figure size 432x288 with 1 Axes>"
      ]
     },
     "metadata": {
      "needs_background": "light"
     },
     "output_type": "display_data"
    }
   ],
   "source": [
    "plt.loglog(MM,BWC,label='BWC')\n",
    "plt.loglog(MM,UM,label='UM median')\n",
    "plt.loglog(MM,UMq,label='UM mean')\n",
    "plt.loglog(MM,UMm,label='UM log mean')\n",
    "\n",
    "\n",
    "plt.legend()\n",
    "plt.ylim(1e-4,2e2)\n",
    "plt.xlabel('M')\n",
    "plt.ylabel('SFR')\n",
    "plt.title('z=2.8')"
   ]
  },
  {
   "cell_type": "code",
   "execution_count": 82,
   "metadata": {},
   "outputs": [],
   "source": [
    "MM = np.logspace(8,15,1000)\n",
    "ZZ = 2.0625"
   ]
  },
  {
   "cell_type": "code",
   "execution_count": 83,
   "metadata": {},
   "outputs": [],
   "source": [
    "BWC = SFR_Mz_2dinterp(MM,ZZ,'../SFR_tables/sfr_table_Behroozi.dat')\n",
    "UM = SFR_Mz_2dinterp(MM,ZZ,'../SFR_tables/sfr_table_UniverseMachine_Median_clean.dat')\n",
    "UMq = SFR_Mz_2dinterp(MM,ZZ,'../SFR_tables/sfr_table_UniverseMachine_clean.dat')"
   ]
  },
  {
   "cell_type": "code",
   "execution_count": 84,
   "metadata": {},
   "outputs": [
    {
     "data": {
      "text/plain": [
       "(0.01, 2000.0)"
      ]
     },
     "execution_count": 84,
     "metadata": {},
     "output_type": "execute_result"
    },
    {
     "data": {
      "image/png": "[encoded data removed]",
      "text/plain": [
       "<Figure size 432x288 with 1 Axes>"
      ]
     },
     "metadata": {
      "needs_background": "light"
     },
     "output_type": "display_data"
    }
   ],
   "source": [
    "plt.loglog(MM,BWC,label='BWC')\n",
    "plt.loglog(MM,UM,label='UM median')\n",
    "plt.loglog(MM,UMq,label='UM mean')\n",
    "\n",
    "plt.legend()\n",
    "plt.ylim(1e-4,2e2)\n",
    "plt.xlabel('M')\n",
    "plt.ylabel('SFR')\n",
    "plt.title('z=2.0625')\n",
    "\n",
    "plt.xlim(1e9,1e14)\n",
    "plt.ylim(1e-2,2e3)"
   ]
  },
  {
   "cell_type": "code",
   "execution_count": null,
   "metadata": {},
   "outputs": [],
   "source": []
  }
 ],
 "metadata": {
  "kernelspec": {
   "display_name": "Python [conda env:py3]",
   "language": "python",
   "name": "conda-env-py3-py"
  },
  "language_info": {
   "codemirror_mode": {
    "name": "ipython",
    "version": 3
   },
   "file_extension": ".py",
   "mimetype": "text/x-python",
   "name": "python",
   "nbconvert_exporter": "python",
   "pygments_lexer": "ipython3",
   "version": "3.7.7"
  }
 },
 "nbformat": 4,
 "nbformat_minor": 4
}
