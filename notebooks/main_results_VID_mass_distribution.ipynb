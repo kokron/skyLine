{
 "cells": [
  {
   "cell_type": "code",
   "execution_count": 9,
   "id": "ae646b0c",
   "metadata": {},
   "outputs": [],
   "source": [
    "import sys\n",
    "sys.path.append('../../preLIMinary/')\n",
    "sys.path.append('/home/gsatopo1/library/lim')\n",
    "from lim import lim\n",
    "import numpy as np\n",
    "import astropy.units as u\n",
    "import astropy.constants as cu\n",
    "from LIM_lightcone import paint_lightcone, make_survey, make_measurements\n",
    "import matplotlib.pyplot as plt\n",
    "from scipy.interpolate import interp1d, RegularGridInterpolator\n",
    "import dask.array as da\n",
    "\n",
    "from scipy import integrate\n",
    "import matplotlib\n",
    "from mpl_toolkits.axes_grid1 import make_axes_locatable\n",
    "\n",
    "LC_path='/home/gsatopo1/data-mkamion1/MDPL2-UM-squareLC/'\n",
    "\n",
    "palette=['#165783', '#cd9b00', '#ad321f', '#3c651e', '#9B88B5', '#5f685f']\n",
    "plt.rcParams['axes.prop_cycle'] = plt.cycler(color=palette)\n",
    "plt.rcParams['figure.figsize'] = [8, 6]\n",
    "plt.rcParams['font.size'] = 15\n",
    "plt.rcParams['lines.linewidth'] = 2.5\n",
    "plt.rcParams['axes.linewidth'] = 1.5"
   ]
  },
  {
   "cell_type": "code",
   "execution_count": 2,
   "id": "318bbefa",
   "metadata": {},
   "outputs": [],
   "source": [
    "def LC_params(line):\n",
    "    h=0.678\n",
    "    zmin = 2.5;zmax = 3.5\n",
    "    zmid=(zmax+zmin)/2\n",
    "    R=700\n",
    "    ang_lim=10*u.deg\n",
    "    model_params=dict(halo_lightcone_dir=LC_path, \n",
    "                      do_external_SFR = False, external_SFR = '',\n",
    "                      SFR_pars=dict(),\n",
    "                      resampler='cic',\n",
    "                      angular_supersample=1,\n",
    "                      spectral_supersample=1,\n",
    "                      do_downsample=False,\n",
    "                      cube_mode='inner_cube',\n",
    "                      Nmu=20,\n",
    "                      kmax=3*u.Mpc**-1,\n",
    "                      dk=0.02*u.Mpc**-1,\n",
    "                      seed=0)\n",
    "    obs_params=dict(zmin = zmin-0.03, zmax = zmax+0.03, \n",
    "                    RAObs_min=-ang_lim,RAObs_max=ang_lim, DECObs_min=-ang_lim,DECObs_max=ang_lim,\n",
    "                    RA_min=-ang_lim,RA_max=ang_lim, DEC_min=-ang_lim,DEC_max=ang_lim,\n",
    "                    Nfeeds=1000, beam_FWHM=2*u.arcmin, tobs=6000*u.hr, \n",
    "                    do_angular_smooth=True, do_spectral_smooth=True)\n",
    "    \n",
    "    if line=='CO':\n",
    "        nu_CO=115.271*u.GHz\n",
    "        dnu=nu_CO/(1+zmid)/R\n",
    "        model_params.update(dict(lines=dict(CO_J10=True), target_line = 'CO_J10',\n",
    "                                #models=dict(CO_J10=dict(model_name='CO_Li16',\n",
    "                                #                    model_pars={'alpha':1.37,'beta':-1.74,'delta_mf':1,'sigma_L':0.3})),\n",
    "                                 models=dict(CO_J10=dict(model_name='CO_lines_scaling_LFIR',\n",
    "                                                          model_pars={'alpha':0.81568736,'beta':3.43531917,'alpha_std':0,'beta_std':0,'sigma_L':0.2})),\n",
    "                                 LIR_pars = dict(IRX_name='Bouwens2020', log10Ms_IRX=9.15, alpha_IRX=0.97, sigma_IRX=0.2,\n",
    "                                                 K_IR=0.63*1.73e-10, K_UV=0.63*2.5e-10),                          \n",
    "                                 do_intensity=False))\n",
    "        obs_params.update(dict(nuObs_max=nu_CO/(1+zmin), nuObs_min=nu_CO/(1+zmax),\n",
    "                           dnu=dnu, \n",
    "                           Tsys=0*u.Jy/u.sr))\n",
    "        obs_params.update(model_params)\n",
    "    \n",
    "    elif line=='CII':\n",
    "        nu_CII=1900.539*u.GHz\n",
    "        dnu=nu_CII/(1+zmid)/R\n",
    "        model_params.update(dict(lines=dict(CII=True),target_line = 'CII',\n",
    "                          models=dict(CII=dict(model_name='CII_Lagache18',\n",
    "                                               model_pars={'alpha1':1.4,'alpha2':-0.07, 'beta1':7.1, 'beta2':-0.07, 'sigma_L':0.5})),\n",
    "                          do_intensity=True))\n",
    "        obs_params.update(dict(nuObs_max=nu_CII/(1+zmin), nuObs_min=nu_CII/(1+zmax),\n",
    "                               dnu=dnu,\n",
    "                               Tsys=0*u.Jy/u.sr))\n",
    "        obs_params.update(model_params)\n",
    "    \n",
    "    elif line=='Lyalpha':\n",
    "        nu_Lya=2465398.5*u.GHz\n",
    "        dnu=nu_Lya/(1+zmid)/R\n",
    "        model_params.update(dict(lines=dict(Lyalpha=True),target_line = 'Lyalpha',\n",
    "                                 models=dict(Lyalpha=dict(model_name='Lyalpha_Chung19',\n",
    "                                                          model_pars={'C':1.6e42,'xi':1.6,'zeta':0.5,\n",
    "                                                                      'psi':0.875,'z0':3.125,'f0':0.18,\n",
    "                                                                      'SFR0':0.5,'sigma_L':0.3})),\n",
    "                                 do_intensity=True))\n",
    "        obs_params.update(dict(nuObs_max=nu_Lya/(1+zmin), nuObs_min=nu_Lya/(1+zmax),\n",
    "                               dnu=dnu,\n",
    "                               Tsys=0*u.Jy/u.sr))\n",
    "        obs_params.update(model_params)\n",
    "        \n",
    "    elif line=='HI':\n",
    "        nu_HI=1.4204134*u.GHz\n",
    "        dnu=nu_HI/(1+zmid)/R\n",
    "        model_params.update(dict(lines=dict(HI=True),target_line = 'HI',\n",
    "                                 models=dict(HI=dict(model_name='HI_VN18',\n",
    "                                                     model_pars={'M0':2.9e9*u.Msun/h, 'Mmin':6.7e10*u.Msun/h, \n",
    "                                                                 'alpha':0.76,'sigma_MHI':0.2})),\n",
    "                                 do_intensity=False))\n",
    "        obs_params.update(dict(zmin = zmin-0.03, zmax = zmax+0.03,\n",
    "                               nuObs_max=nu_HI/(1+zmin), nuObs_min=nu_HI/(1+zmax),\n",
    "                        dnu=dnu,\n",
    "                        Tsys=0*u.Jy/u.sr))\n",
    "        obs_params.update(model_params)\n",
    "    return obs_params"
   ]
  },
  {
   "cell_type": "code",
   "execution_count": 4,
   "id": "afdc547c",
   "metadata": {},
   "outputs": [],
   "source": [
    "def halos_in_Tbin(LC, Tbin_min, Tbin_max):\n",
    "    LC_map=LC.obs_3d_map\n",
    "    corners=LC_map.x\n",
    "    \n",
    "    inds_RA = (LC.halo_catalog['RA'] > LC.RAObs_min.value)&(LC.halo_catalog['RA'] < LC.RAObs_max.value)\n",
    "    inds_DEC = (LC.halo_catalog['DEC'] > LC.DECObs_min.value)&(LC.halo_catalog['DEC'] < LC.DECObs_max.value)\n",
    "    inds_sky = inds_RA&inds_DEC\n",
    "\n",
    "    cornerside = (LC.raside_lim[1]**2+LC.decside_lim[1]**2)**0.5\n",
    "    ang = np.arctan(cornerside/LC.rside_obs_lim[1])\n",
    "    rbuffer = cornerside/np.sin(ang)\n",
    "    zbuffer = LC.cosmo.redshift_at_comoving_radial_distance((rbuffer*LC.Mpch).value)\n",
    "    nu_min = LC.line_nu0['CO_J10']/(zbuffer+1)\n",
    "\n",
    "    inds = (LC.nuObs_line_halo['CO_J10'] >= nu_min)&(LC.nuObs_line_halo['CO_J10'] <= LC.nuObs_max)&inds_sky\n",
    "    halos_in_survey = LC.halo_catalog[inds]\n",
    "    \n",
    "    zmid = (LC.line_nu0[LC.target_line]/LC.nuObs_mean).decompose().value-1\n",
    "    sigma_par_target = (cu.c*LC.dnu*(1+zmid)/(LC.cosmo.hubble_parameter(zmid)*(u.km/u.Mpc/u.s)*LC.nuObs_mean)).to(LC.Mpch).value\n",
    "\n",
    "    Lbox = LC.Lbox.value\n",
    "\n",
    "    Nmesh = np.array([LC.spectral_supersample*np.ceil(Lbox[0]/sigma_par_target),\n",
    "              LC.angular_supersample*LC.Npixside[0],\n",
    "              LC.angular_supersample*LC.Npixside[1]], dtype=int)\n",
    "\n",
    "    ramid = 0.5*(LC.RAObs_max + LC.RAObs_min)\n",
    "    decmid = 0.5*(LC.DECObs_max + LC.DECObs_min)\n",
    "\n",
    "    ralim = np.deg2rad(np.array([LC.RAObs_min.value,LC.RAObs_max.value]) - ramid.value) \n",
    "    declim = np.deg2rad(np.array([LC.DECObs_min.value,LC.DECObs_max.value]) - decmid.value)\n",
    "    raside_lim = LC.raside_lim\n",
    "    decside_lim = LC.decside_lim\n",
    "    rside_obs_lim = LC.rside_obs_lim\n",
    "\n",
    "    mins_obs = np.array([rside_obs_lim[0],raside_lim[0],decside_lim[0]])+0.49999*Lbox/Nmesh\n",
    "\n",
    "    ra,dec,redshift = da.broadcast_arrays(LC.halos_in_survey['CO_J10']['RA'], LC.halos_in_survey['CO_J10']['DEC'],\n",
    "                                          LC.halos_in_survey['CO_J10']['Zobs'])\n",
    "    r = redshift.map_blocks(lambda zz: (((LC.cosmo.comoving_radial_distance(zz)*u.Mpc).to(LC.Mpch)).value),\n",
    "                            dtype=redshift.dtype)\n",
    "    ra -= ramid.value\n",
    "    dec -= decmid.value\n",
    "    ra,dec  = da.deg2rad(ra),da.deg2rad(dec)\n",
    "\n",
    "    x = da.cos(dec) * da.cos(ra)\n",
    "    y = da.cos(dec) * da.sin(ra)\n",
    "    z = da.sin(dec)\n",
    "    pos = da.vstack([x,y,z]).T                    \n",
    "    cartesian_halopos = r[:,None] * pos\n",
    "    lategrid = np.array(cartesian_halopos.compute())\n",
    "\n",
    "    filtering = (lategrid[:,0] >= rside_obs_lim[0]) & (lategrid[:,0] <= rside_obs_lim[1]) & \\\n",
    "                (lategrid[:,1] >= raside_lim[0]) & (lategrid[:,1] <= raside_lim[1]) & \\\n",
    "                (lategrid[:,2] >= decside_lim[0]) & (lategrid[:,2] <= decside_lim[1])\n",
    "    lategrid = lategrid[filtering]\n",
    "    for n in range(3):\n",
    "        lategrid[:,n] -= mins_obs[n]\n",
    "        \n",
    "    Xcorner=np.sort(np.asarray(corners[0][:,0,0]))\n",
    "    Xcorner-=np.min(Xcorner)\n",
    "    dXcorner=np.diff(Xcorner)[0]\n",
    "    Ycorner=np.sort(np.asarray(corners[1][0,:,0]))\n",
    "    Ycorner-=np.min(Ycorner)\n",
    "    dYcorner=np.diff(Ycorner)[0]\n",
    "    Zcorner=np.sort(np.asarray(corners[2][0,0,:]))\n",
    "    Zcorner-=np.min(Zcorner)\n",
    "    dZcorner=np.diff(Zcorner)[0]\n",
    "\n",
    "    ind_mask=np.asarray(np.where((LC_map>=Tbin_min)&(LC_map<Tbin_max)))\n",
    "    Xmin=Xcorner[ind_mask[0]]\n",
    "    Ymin=Ycorner[ind_mask[1]]\n",
    "    Zmin=Zcorner[ind_mask[2]]\n",
    "\n",
    "    mask_M=((lategrid[:,0]>=Xmin[0])&(lategrid[:,0]<Xmin[0]+dXcorner)&\n",
    "            (lategrid[:,1]>=Ymin[0])&(lategrid[:,1]<Ymin[0]+dYcorner)&\n",
    "            (lategrid[:,2]>=Zmin[0])&(lategrid[:,2]<Zmin[0]+dZcorner))\n",
    "    for i in range(1,len(Xmin)):\n",
    "        mask_M=mask_M|((lategrid[:,0]>=Xmin[i])&(lategrid[:,0]<Xmin[i]+dXcorner)&\n",
    "                       (lategrid[:,1]>=Ymin[i])&(lategrid[:,1]<Ymin[i]+dYcorner)&\n",
    "                       (lategrid[:,2]>=Zmin[i])&(lategrid[:,2]<Zmin[i]+dZcorner))\n",
    "\n",
    "    M_in_Tbin=np.asarray((halos_in_survey['M_HALO'][filtering])[mask_M]*(LC_CO.Mpch.to(u.Mpc)))\n",
    "    L_in_Tbin=np.asarray((LC_CO.halos_in_survey['CO_J10']['Lhalo'][filtering])[mask_M])\n",
    "    return M_in_Tbin, L_in_Tbin"
   ]
  },
  {
   "cell_type": "code",
   "execution_count": 3,
   "id": "34754ba4",
   "metadata": {},
   "outputs": [],
   "source": [
    "LC_CO=make_measurements(LC_params('CO'))"
   ]
  },
  {
   "cell_type": "code",
   "execution_count": 50,
   "id": "7abf080f",
   "metadata": {},
   "outputs": [],
   "source": [
    "ang_lim=1.25*u.deg\n",
    "\n",
    "LC_CO.update(RAObs_min=-ang_lim,RAObs_max=ang_lim, DECObs_min=-ang_lim,DECObs_max=ang_lim)"
   ]
  },
  {
   "cell_type": "code",
   "execution_count": 4,
   "id": "5dcb9f76",
   "metadata": {},
   "outputs": [
    {
     "name": "stderr",
     "output_type": "stream",
     "text": [
      "../../preLIMinary/source/survey.py:320: UserWarning: % of survey volume lost due to inner cube = 0.2169068199078663\n",
      "  warn(\"% of survey volume lost due to inner cube = {}\".format(1-zside*raside*decside*self.Mpch**3/self.Vsurvey))\n"
     ]
    },
    {
     "name": "stdout",
     "output_type": "stream",
     "text": [
      "/home/gsatopo1/data-mkamion1/MDPL2-UM-squareLC/lightcone_MDPL2UM_161.fits\n",
      "/home/gsatopo1/data-mkamion1/MDPL2-UM-squareLC/lightcone_MDPL2UM_162.fits\n",
      "/home/gsatopo1/data-mkamion1/MDPL2-UM-squareLC/lightcone_MDPL2UM_163.fits\n",
      "/home/gsatopo1/data-mkamion1/MDPL2-UM-squareLC/lightcone_MDPL2UM_164.fits\n",
      "/home/gsatopo1/data-mkamion1/MDPL2-UM-squareLC/lightcone_MDPL2UM_165.fits\n",
      "/home/gsatopo1/data-mkamion1/MDPL2-UM-squareLC/lightcone_MDPL2UM_166.fits\n",
      "/home/gsatopo1/data-mkamion1/MDPL2-UM-squareLC/lightcone_MDPL2UM_167.fits\n",
      "/home/gsatopo1/data-mkamion1/MDPL2-UM-squareLC/lightcone_MDPL2UM_168.fits\n",
      "/home/gsatopo1/data-mkamion1/MDPL2-UM-squareLC/lightcone_MDPL2UM_169.fits\n",
      "/home/gsatopo1/data-mkamion1/MDPL2-UM-squareLC/lightcone_MDPL2UM_170.fits\n",
      "/home/gsatopo1/data-mkamion1/MDPL2-UM-squareLC/lightcone_MDPL2UM_171.fits\n",
      "/home/gsatopo1/data-mkamion1/MDPL2-UM-squareLC/lightcone_MDPL2UM_172.fits\n",
      "/home/gsatopo1/data-mkamion1/MDPL2-UM-squareLC/lightcone_MDPL2UM_173.fits\n",
      "/home/gsatopo1/data-mkamion1/MDPL2-UM-squareLC/lightcone_MDPL2UM_174.fits\n",
      "/home/gsatopo1/data-mkamion1/MDPL2-UM-squareLC/lightcone_MDPL2UM_175.fits\n",
      "/home/gsatopo1/data-mkamion1/MDPL2-UM-squareLC/lightcone_MDPL2UM_176.fits\n",
      "/home/gsatopo1/data-mkamion1/MDPL2-UM-squareLC/lightcone_MDPL2UM_177.fits\n",
      "/home/gsatopo1/data-mkamion1/MDPL2-UM-squareLC/lightcone_MDPL2UM_178.fits\n",
      "/home/gsatopo1/data-mkamion1/MDPL2-UM-squareLC/lightcone_MDPL2UM_179.fits\n",
      "/home/gsatopo1/data-mkamion1/MDPL2-UM-squareLC/lightcone_MDPL2UM_180.fits\n",
      "/home/gsatopo1/data-mkamion1/MDPL2-UM-squareLC/lightcone_MDPL2UM_181.fits\n",
      "/home/gsatopo1/data-mkamion1/MDPL2-UM-squareLC/lightcone_MDPL2UM_182.fits\n",
      "/home/gsatopo1/data-mkamion1/MDPL2-UM-squareLC/lightcone_MDPL2UM_183.fits\n",
      "/home/gsatopo1/data-mkamion1/MDPL2-UM-squareLC/lightcone_MDPL2UM_184.fits\n",
      "/home/gsatopo1/data-mkamion1/MDPL2-UM-squareLC/lightcone_MDPL2UM_185.fits\n",
      "/home/gsatopo1/data-mkamion1/MDPL2-UM-squareLC/lightcone_MDPL2UM_186.fits\n",
      "/home/gsatopo1/data-mkamion1/MDPL2-UM-squareLC/lightcone_MDPL2UM_187.fits\n",
      "/home/gsatopo1/data-mkamion1/MDPL2-UM-squareLC/lightcone_MDPL2UM_188.fits\n",
      "The target line requires z_max = 3.567 instead of the nominal 3.500\n"
     ]
    },
    {
     "name": "stderr",
     "output_type": "stream",
     "text": [
      "../../preLIMinary/source/survey.py:428: UserWarning: Filling the corners requires a buffering z_max = 3.567, but input z_max = 3.530. Corners will not be completely filled\n",
      "  warn('Filling the corners requires a buffering z_max = {:.3f}, but input z_max = {:.3f}. Corners will not be completely filled'.format(zbuffer,self.zmax))\n",
      "../../preLIMinary/source/survey.py:670: UserWarning: % of emitters of CO_J10 line left out filtering = 0.2260928678521218\n",
      "  warn(\"% of emitters of {} line left out filtering = {}\".format(line, 1-len(Zhalo)/len(filtering)))\n"
     ]
    }
   ],
   "source": [
    "#TiCO_edge=np.logspace(-1, np.log10(np.max(CO_map)), 50+1)\n",
    "TiCO_edge=np.linspace(-3, 30, 50+1)\n",
    "TiCO=(TiCO_edge[:-1]+TiCO_edge[1:])/2.\n",
    "\n",
    "BiCO=np.histogram(np.asarray(LC_CO.obs_3d_map).flatten(), bins=TiCO_edge)[0]"
   ]
  },
  {
   "cell_type": "code",
   "execution_count": 52,
   "id": "dcbd1c6d",
   "metadata": {},
   "outputs": [
    {
     "name": "stdout",
     "output_type": "stream",
     "text": [
      "13395 81836 10080 1701\n"
     ]
    }
   ],
   "source": [
    "print(BiCO[1], BiCO[4], BiCO[11], BiCO[25])"
   ]
  },
  {
   "cell_type": "code",
   "execution_count": 114,
   "id": "469d9fd1",
   "metadata": {},
   "outputs": [
    {
     "name": "stdout",
     "output_type": "stream",
     "text": [
      "362 11956 1019 129\n"
     ]
    }
   ],
   "source": [
    "print(BiCO[1], BiCO[4], BiCO[11], BiCO[25])"
   ]
  },
  {
   "cell_type": "code",
   "execution_count": 99,
   "id": "5897f9ef",
   "metadata": {},
   "outputs": [
    {
     "name": "stdout",
     "output_type": "stream",
     "text": [
      "73779 588882 69962 12057\n"
     ]
    }
   ],
   "source": [
    "print(BiCO[1], BiCO[4], BiCO[11], BiCO[25])"
   ]
  },
  {
   "cell_type": "code",
   "execution_count": 14,
   "id": "6db116e3",
   "metadata": {},
   "outputs": [
    {
     "data": {
      "image/png": "[encoded data removed]",
      "text/plain": [
       "<Figure size 360x288 with 1 Axes>"
      ]
     },
     "metadata": {
      "needs_background": "light"
     },
     "output_type": "display_data"
    }
   ],
   "source": [
    "plt.figure(figsize=(5,4))\n",
    "plt.plot(TiCO, BiCO)\n",
    "plt.plot(TiCO[1]*np.ones((10)), np.logspace(1,15,10), '--C0', alpha=0.5, linewidth=1.5)\n",
    "plt.plot(TiCO[4]*np.ones((10)), np.logspace(1,15,10), '--C0', alpha=0.5, linewidth=1.5)\n",
    "plt.plot(TiCO[11]*np.ones((10)), np.logspace(1,15,10), '--C0', alpha=0.5, linewidth=1.5)\n",
    "plt.plot(TiCO[25]*np.ones((10)), np.logspace(1,15,10), '--C0', alpha=0.5, linewidth=1.5)\n",
    "plt.ylim(2e4,7e7)\n",
    "plt.xlim(-3, 20)\n",
    "plt.yscale('log')"
   ]
  },
  {
   "cell_type": "code",
   "execution_count": 33,
   "id": "44a062e6",
   "metadata": {},
   "outputs": [],
   "source": [
    "TiCO_edge=np.linspace(-3, 30, 50+1)\n",
    "M_in_T1, L_in_T1=halos_in_Tbin(LC_CO, TiCO_edge[1], TiCO_edge[1+1])\n",
    "M_in_T11, L_in_T11=halos_in_Tbin(LC_CO, TiCO_edge[11], TiCO_edge[11+1])"
   ]
  },
  {
   "cell_type": "code",
   "execution_count": 53,
   "id": "7080d2ce",
   "metadata": {},
   "outputs": [],
   "source": [
    "TiCO_edge=np.linspace(-3, 30, 50+1)\n",
    "M_in_T4, L_in_T4=halos_in_Tbin(LC_CO, TiCO_edge[4], TiCO_edge[4+1])"
   ]
  },
  {
   "cell_type": "code",
   "execution_count": null,
   "id": "948c2765",
   "metadata": {},
   "outputs": [],
   "source": [
    "TiCO_edge=np.linspace(-3, 30, 50+1)\n",
    "M_in_T25, L_in_T25=halos_in_Tbin(LC_CO, TiCO_edge[25], TiCO_edge[25+1])"
   ]
  },
  {
   "cell_type": "code",
   "execution_count": 36,
   "id": "560abd9e",
   "metadata": {},
   "outputs": [],
   "source": [
    "#np.save('M_in_Tbin1', M_in_T1)\n",
    "#np.save('L_in_Tbin1', L_in_T1)\n",
    "#np.save('M_in_Tbin11', M_in_T11)\n",
    "#np.save('L_in_Tbin11', L_in_T11)"
   ]
  },
  {
   "cell_type": "code",
   "execution_count": 7,
   "id": "39603219",
   "metadata": {},
   "outputs": [],
   "source": [
    "M_in_T1=np.load('../../M_in_Tbin1_v2.npy')\n",
    "L_in_T1=np.load('../../L_in_Tbin1_v2.npy')\n",
    "\n",
    "M_in_T4=np.load('../../M_in_Tbin4.npy')\n",
    "L_in_T4=np.load('../../L_in_Tbin4.npy')\n",
    "\n",
    "M_in_T11=np.load('../../M_in_Tbin11.npy')\n",
    "L_in_T11=np.load('../../L_in_Tbin11.npy')\n",
    "\n",
    "M_in_T25=np.load('../../M_in_Tbin25.npy')\n",
    "L_in_T25=np.load('../../L_in_Tbin25.npy')"
   ]
  },
  {
   "cell_type": "code",
   "execution_count": 21,
   "id": "bfcd8408",
   "metadata": {},
   "outputs": [
    {
     "name": "stdout",
     "output_type": "stream",
     "text": [
      "-2.01 -0.029999999999999805 4.59 13.83\n"
     ]
    }
   ],
   "source": [
    "print(TiCO[1], TiCO[4], TiCO[11], TiCO[25])"
   ]
  },
  {
   "cell_type": "code",
   "execution_count": 10,
   "id": "5c7bdf01",
   "metadata": {},
   "outputs": [
    {
     "data": {
      "image/png": "[encoded data removed]",
      "text/plain": [
       "<Figure size 432x576 with 2 Axes>"
      ]
     },
     "metadata": {
      "needs_background": "light"
     },
     "output_type": "display_data"
    }
   ],
   "source": [
    "grey='#cccccc'\n",
    "color1='#d1a862'\n",
    "color2='#c38854'\n",
    "color3='#9c4630'\n",
    "color4='#550022'\n",
    "\n",
    "Mbin_edges=np.linspace(10.75, 13, 35)\n",
    "Mbin=(Mbin_edges[1:]+Mbin_edges[:-1])/2\n",
    "#Nbin_tot, _=np.histogram(np.log10(M_in_survey), bins=Mbin_edges, weights=L_in_survey, density=True)\n",
    "\n",
    "fig, ax = plt.subplots(2, 1, gridspec_kw={'height_ratios': [2, 1], 'hspace':0.25}, figsize=(6,8))\n",
    "\n",
    "ax[0].fill_between(Mbin, y1=np.zeros((len(Mbin))), y2=Nbin_tot, color=grey, label='All')\n",
    "\n",
    "ax[0].hist(np.log10(M_in_T1), bins=Mbin_edges, weights=L_in_T1, density=True, \n",
    "         color=color1, fc=(209/255, 168/255, 98/255, 0.1),\n",
    "         linewidth=2, histtype='step', fill=True, label=r'$\\Delta T$='+str(np.round(TiCO[1], 0))+r'$\\mu$K')\n",
    "\n",
    "ax[0].hist(np.log10(M_in_T4), bins=Mbin_edges, weights=L_in_T4, density=True, \n",
    "         color=color2, fc=(195/255, 136/255, 84/255, 0.1),\n",
    "         linewidth=2, histtype='step', fill=True, label=r'$\\Delta T$='+str(np.round(TiCO[4], 0))+r'$\\mu$K')\n",
    "\n",
    "ax[0].hist(np.log10(M_in_T11), bins=Mbin_edges, weights=L_in_T11, density=True, \n",
    "         color=color3, fc=(156/255, 70/255, 48/255, 0.1),\n",
    "         linewidth=2, histtype='step', fill=True, label=r'$\\Delta T$='+str(np.round(TiCO[11], 1))+r'$\\mu$K')\n",
    "\n",
    "ax[0].hist(np.log10(M_in_T25), bins=Mbin_edges, weights=L_in_T25, density=True, \n",
    "         color=color4, fc=(85/255, 0, 34/255, 0.1),\n",
    "         linewidth=2,histtype='step', fill=True, label=r'$\\Delta T$='+str(np.round(TiCO[25], 1))+r'$\\mu$K')\n",
    "ax[0].legend(loc='upper left', handletextpad=0.2, fontsize=13)\n",
    "ax[0].set_xlabel('M [M$_{\\odot}$]')\n",
    "ax[0].set_ylabel(r'$L(M) \\frac{dn}{dM}$')\n",
    "\n",
    "ax[1].plot(TiCO, BiCO, color='grey')\n",
    "ax[1].fill_betweenx(np.logspace(1,15,10), x1=TiCO_edge[1]*np.ones((10)), x2=TiCO_edge[2]*np.ones((10)), \n",
    "                    color=color1, fc=(209/255, 168/255, 98/255, 0.1), linewidth=2)\n",
    "\n",
    "ax[1].fill_betweenx(np.logspace(1,15,10), x1=TiCO_edge[4]*np.ones((10)), x2=TiCO_edge[5]*np.ones((10)), \n",
    "                    color=color2, fc=(195/255, 136/255, 84/255, 0.1), linewidth=2)\n",
    "\n",
    "ax[1].fill_betweenx(np.logspace(1,15,10), x1=TiCO_edge[11]*np.ones((10)), x2=TiCO_edge[12]*np.ones((10)), \n",
    "                    color=color3, fc=(156/255, 70/255, 48/255, 0.1), linewidth=2)\n",
    "\n",
    "ax[1].fill_betweenx(np.logspace(1,15,10), x1=TiCO_edge[25]*np.ones((10)), x2=TiCO_edge[26]*np.ones((10)), \n",
    "                    color=color4, fc=(85/255, 0, 34/255, 0.1), linewidth=2)\n",
    "\n",
    "ax[1].set_ylim(2e4,7e7)\n",
    "ax[1].set_xlim(-3, 20)\n",
    "ax[1].set_xlabel(r\"$\\Delta T$ [$\\mu K$]\")\n",
    "ax[1].set_ylabel(\"$B_{i}(T)$\")\n",
    "ax[1].set_yscale('log')\n",
    "#plt.savefig('../../VID_properties.png', dpi=300, bbox_inches='tight')\n",
    "plt.show()"
   ]
  },
  {
   "cell_type": "code",
   "execution_count": 5,
   "id": "a64f67ca",
   "metadata": {},
   "outputs": [],
   "source": [
    "inds_RA = (LC_CO.halo_catalog['RA'] > LC_CO.RAObs_min.value)&(LC_CO.halo_catalog['RA'] < LC_CO.RAObs_max.value)\n",
    "inds_DEC = (LC_CO.halo_catalog['DEC'] > LC_CO.DECObs_min.value)&(LC_CO.halo_catalog['DEC'] < LC_CO.DECObs_max.value)\n",
    "inds_sky = inds_RA&inds_DEC\n",
    "\n",
    "cornerside = (LC_CO.raside_lim[1]**2+LC_CO.decside_lim[1]**2)**0.5\n",
    "ang = np.arctan(cornerside/LC_CO.rside_obs_lim[1])\n",
    "rbuffer = cornerside/np.sin(ang)\n",
    "zbuffer = LC_CO.cosmo.redshift_at_comoving_radial_distance((rbuffer*LC_CO.Mpch).value)\n",
    "nu_min = LC_CO.line_nu0['CO_J10']/(zbuffer+1)\n",
    "\n",
    "inds = (LC_CO.nuObs_line_halo['CO_J10'] >= nu_min)&(LC_CO.nuObs_line_halo['CO_J10'] <= LC_CO.nuObs_max)&inds_sky\n",
    "halos_in_survey = LC_CO.halo_catalog[inds]"
   ]
  },
  {
   "cell_type": "code",
   "execution_count": 6,
   "id": "12a1b25c",
   "metadata": {},
   "outputs": [],
   "source": [
    "zmid = (LC_CO.line_nu0[LC_CO.target_line]/LC_CO.nuObs_mean).decompose().value-1\n",
    "sigma_par_target = (cu.c*LC_CO.dnu*(1+zmid)/(LC_CO.cosmo.hubble_parameter(zmid)*(u.km/u.Mpc/u.s)*LC_CO.nuObs_mean)).to(LC_CO.Mpch).value\n",
    "\n",
    "Lbox = LC_CO.Lbox.value\n",
    "\n",
    "Nmesh = np.array([LC_CO.spectral_supersample*np.ceil(Lbox[0]/sigma_par_target),\n",
    "          LC_CO.angular_supersample*LC_CO.Npixside[0],\n",
    "          LC_CO.angular_supersample*LC_CO.Npixside[1]], dtype=int)\n",
    "\n",
    "ramid = 0.5*(LC_CO.RAObs_max + LC_CO.RAObs_min)\n",
    "decmid = 0.5*(LC_CO.DECObs_max + LC_CO.DECObs_min)\n",
    "\n",
    "ralim = np.deg2rad(np.array([LC_CO.RAObs_min.value,LC_CO.RAObs_max.value]) - ramid.value) \n",
    "declim = np.deg2rad(np.array([LC_CO.DECObs_min.value,LC_CO.DECObs_max.value]) - decmid.value)\n",
    "raside_lim = LC_CO.raside_lim\n",
    "decside_lim = LC_CO.decside_lim\n",
    "rside_obs_lim = LC_CO.rside_obs_lim\n",
    "\n",
    "mins_obs = np.array([rside_obs_lim[0],raside_lim[0],decside_lim[0]])+0.49999*Lbox/Nmesh\n",
    "\n",
    "ra,dec,redshift = da.broadcast_arrays(LC_CO.halos_in_survey['CO_J10']['RA'], LC_CO.halos_in_survey['CO_J10']['DEC'],\n",
    "                                      LC_CO.halos_in_survey['CO_J10']['Zobs'])\n",
    "r = redshift.map_blocks(lambda zz: (((LC_CO.cosmo.comoving_radial_distance(zz)*u.Mpc).to(LC_CO.Mpch)).value),\n",
    "                        dtype=redshift.dtype)\n",
    "ra -= ramid.value\n",
    "dec -= decmid.value\n",
    "ra,dec  = da.deg2rad(ra),da.deg2rad(dec)\n",
    "\n",
    "x = da.cos(dec) * da.cos(ra)\n",
    "y = da.cos(dec) * da.sin(ra)\n",
    "z = da.sin(dec)\n",
    "pos = da.vstack([x,y,z]).T                    \n",
    "cartesian_halopos = r[:,None] * pos\n",
    "lategrid = np.array(cartesian_halopos.compute())\n",
    "\n",
    "filtering = (lategrid[:,0] >= rside_obs_lim[0]) & (lategrid[:,0] <= rside_obs_lim[1]) & \\\n",
    "            (lategrid[:,1] >= raside_lim[0]) & (lategrid[:,1] <= raside_lim[1]) & \\\n",
    "            (lategrid[:,2] >= decside_lim[0]) & (lategrid[:,2] <= decside_lim[1])\n",
    "\n",
    "M_in_survey = np.asarray((halos_in_survey['M_HALO'][filtering])*(LC_CO.Mpch.to(u.Mpc)))\n",
    "L_in_survey = np.asarray((LC_CO.halos_in_survey['CO_J10']['Lhalo'][filtering]))"
   ]
  },
  {
   "cell_type": "code",
   "execution_count": 8,
   "id": "bee69aeb",
   "metadata": {},
   "outputs": [
    {
     "name": "stdout",
     "output_type": "stream",
     "text": [
      "-4.505033612562329 157.73414727167528\n",
      "-2.3715182756652666 1424.8447461244582\n",
      "-2.3692418153898416 1424.853120117014\n"
     ]
    }
   ],
   "source": [
    "print(np.min(lategrid[:,0]),np.max(lategrid[:,0]))\n",
    "print(np.min(lategrid[:,1]),np.max(lategrid[:,1]))\n",
    "print(np.min(lategrid[:,2]),np.max(lategrid[:,2]))"
   ]
  },
  {
   "cell_type": "code",
   "execution_count": 14,
   "id": "a203d936",
   "metadata": {},
   "outputs": [
    {
     "data": {
      "text/plain": [
       "0.0"
      ]
     },
     "execution_count": 14,
     "metadata": {},
     "output_type": "execute_result"
    }
   ],
   "source": [
    "np.std(np.asarray(CO_map).flatten())"
   ]
  },
  {
   "cell_type": "code",
   "execution_count": 79,
   "id": "a6ff36fe",
   "metadata": {},
   "outputs": [
    {
     "name": "stdout",
     "output_type": "stream",
     "text": [
      "2\n",
      "4\n",
      "7\n",
      "22\n"
     ]
    }
   ],
   "source": [
    "NTbin=[2,4,7,22]\n",
    "CO_map=np.asarray(LC_CO.obs_3d_map)\n",
    "\n",
    "Xcorner=np.sort(np.asarray(corners[0][:,0,0]))\n",
    "Xcorner-=np.min(Xcorner)\n",
    "dXcorner=np.diff(Xcorner)[0]\n",
    "Ycorner=np.sort(np.asarray(corners[1][0,:,0]))\n",
    "Ycorner-=np.min(Ycorner)\n",
    "dYcorner=np.diff(Ycorner)[0]\n",
    "Zcorner=np.sort(np.asarray(corners[2][0,0,:]))\n",
    "Zcorner-=np.min(Zcorner)\n",
    "dZcorner=np.diff(Zcorner)[0]\n",
    "\n",
    "M_in_Tbin=[]\n",
    "L_in_Tbin=[]\n",
    "\n",
    "for n in NTbin:\n",
    "    print(n)\n",
    "    Tbin_min=TiCO_edge[n]\n",
    "    Tbin_max=TiCO_edge[n+1]\n",
    "\n",
    "    ind_mask=np.asarray(np.where((CO_map>=Tbin_min)&(CO_map<Tbin_max)))\n",
    "\n",
    "    Xmin=Xcorner[ind_mask[0]]\n",
    "    Ymin=Ycorner[ind_mask[1]]\n",
    "    Zmin=Zcorner[ind_mask[2]]\n",
    "\n",
    "    mask_M=((lategrid[:,0]>=Xmin[0])&(lategrid[:,0]<Xmin[0]+dXcorner)&\n",
    "            (lategrid[:,1]>=Ymin[0])&(lategrid[:,1]<Ymin[0]+dYcorner)&\n",
    "            (lategrid[:,2]>=Zmin[0])&(lategrid[:,2]<Zmin[0]+dZcorner))\n",
    "    for i in range(1,len(Xmin)):\n",
    "        mask_M=mask_M|((lategrid[:,0]>=Xmin[i])&(lategrid[:,0]<Xmin[i]+dXcorner)&\n",
    "                       (lategrid[:,1]>=Ymin[i])&(lategrid[:,1]<Ymin[i]+dYcorner)&\n",
    "                       (lategrid[:,2]>=Zmin[i])&(lategrid[:,2]<Zmin[i]+dZcorner))\n",
    "\n",
    "    M_in_Tbin.append(np.asarray((halos_in_survey['M_HALO'][filtering])[mask_M]*(LC_CO.Mpch.to(u.Mpc))))\n",
    "    L_in_Tbin.append(np.asarray((LC_CO.halos_in_survey['CO_J10']['Lhalo'][filtering])[mask_M]))"
   ]
  },
  {
   "cell_type": "code",
   "execution_count": null,
   "id": "528720fa",
   "metadata": {},
   "outputs": [],
   "source": []
  }
 ],
 "metadata": {
  "kernelspec": {
   "display_name": "Python [conda env:py3_env] *",
   "language": "python",
   "name": "conda-env-py3_env-py"
  },
  "language_info": {
   "codemirror_mode": {
    "name": "ipython",
    "version": 3
   },
   "file_extension": ".py",
   "mimetype": "text/x-python",
   "name": "python",
   "nbconvert_exporter": "python",
   "pygments_lexer": "ipython3",
   "version": "3.7.12"
  }
 },
 "nbformat": 4,
 "nbformat_minor": 5
}
